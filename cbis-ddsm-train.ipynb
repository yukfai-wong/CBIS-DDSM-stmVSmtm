{
 "cells": [
  {
   "cell_type": "code",
   "execution_count": 1,
   "id": "24ab5a1e",
   "metadata": {
    "execution": {
     "iopub.execute_input": "2021-10-15T13:50:07.943734Z",
     "iopub.status.busy": "2021-10-15T13:50:07.942224Z",
     "iopub.status.idle": "2021-10-15T13:50:13.092106Z",
     "shell.execute_reply": "2021-10-15T13:50:13.091148Z",
     "shell.execute_reply.started": "2021-10-15T13:41:23.425869Z"
    },
    "papermill": {
     "duration": 5.185778,
     "end_time": "2021-10-15T13:50:13.092261",
     "exception": false,
     "start_time": "2021-10-15T13:50:07.906483",
     "status": "completed"
    },
    "tags": []
   },
   "outputs": [
    {
     "name": "stderr",
     "output_type": "stream",
     "text": [
      "2021-10-15 13:50:09.584592: I tensorflow/stream_executor/platform/default/dso_loader.cc:49] Successfully opened dynamic library libcudart.so.11.0\n"
     ]
    }
   ],
   "source": [
    "import h5py\n",
    "\n",
    "import numpy as np\n",
    "import seaborn as sns\n",
    "import pandas as pd\n",
    "from tqdm import tqdm\n",
    "\n",
    "import tensorflow as tf\n",
    "from tensorflow import keras\n",
    "from tensorflow.keras import layers\n",
    "from tensorflow.keras import metrics\n",
    "\n",
    "import sklearn.metrics \n",
    "from sklearn.metrics import confusion_matrix, ConfusionMatrixDisplay, roc_curve, auc\n",
    "from sklearn.utils import class_weight\n",
    "\n",
    "import matplotlib.pyplot as plt"
   ]
  },
  {
   "cell_type": "code",
   "execution_count": 2,
   "id": "7586f846",
   "metadata": {
    "execution": {
     "iopub.execute_input": "2021-10-15T13:50:13.156465Z",
     "iopub.status.busy": "2021-10-15T13:50:13.155675Z",
     "iopub.status.idle": "2021-10-15T13:50:13.158163Z",
     "shell.execute_reply": "2021-10-15T13:50:13.157744Z",
     "shell.execute_reply.started": "2021-10-15T13:41:30.107130Z"
    },
    "papermill": {
     "duration": 0.03563,
     "end_time": "2021-10-15T13:50:13.158267",
     "exception": false,
     "start_time": "2021-10-15T13:50:13.122637",
     "status": "completed"
    },
    "tags": []
   },
   "outputs": [],
   "source": [
    "np.random.seed(20211012)\n",
    "tf.random.set_seed(20211012)"
   ]
  },
  {
   "cell_type": "markdown",
   "id": "ce1f3049",
   "metadata": {
    "papermill": {
     "duration": 0.029242,
     "end_time": "2021-10-15T13:50:13.217426",
     "exception": false,
     "start_time": "2021-10-15T13:50:13.188184",
     "status": "completed"
    },
    "tags": []
   },
   "source": [
    "## Load Data"
   ]
  },
  {
   "cell_type": "code",
   "execution_count": 3,
   "id": "d2fc2b84",
   "metadata": {
    "execution": {
     "iopub.execute_input": "2021-10-15T13:50:13.298913Z",
     "iopub.status.busy": "2021-10-15T13:50:13.288145Z",
     "iopub.status.idle": "2021-10-15T13:50:13.301678Z",
     "shell.execute_reply": "2021-10-15T13:50:13.302063Z",
     "shell.execute_reply.started": "2021-10-15T13:41:30.114548Z"
    },
    "papermill": {
     "duration": 0.055349,
     "end_time": "2021-10-15T13:50:13.302193",
     "exception": false,
     "start_time": "2021-10-15T13:50:13.246844",
     "status": "completed"
    },
    "tags": []
   },
   "outputs": [
    {
     "data": {
      "text/plain": [
       "<KeysViewHDF5 ['Calc-Test_ROI', 'Calc-Test_ROI_csv', 'Calc-Test_csv', 'Calc-Test_image', 'Calc-Training_ROI', 'Calc-Training_ROI_csv', 'Calc-Training_csv', 'Calc-Training_image', 'Mass-Test_ROI', 'Mass-Test_ROI_csv', 'Mass-Test_csv', 'Mass-Test_image', 'Mass-Training_ROI', 'Mass-Training_ROI_csv', 'Mass-Training_csv', 'Mass-Training_image']>"
      ]
     },
     "execution_count": 3,
     "metadata": {},
     "output_type": "execute_result"
    }
   ],
   "source": [
    "CBIS = h5py.File('../input/cbisddsm/CBIS-DDSM.hdf5', 'r')\n",
    "CBIS.keys()"
   ]
  },
  {
   "cell_type": "markdown",
   "id": "48bce40b",
   "metadata": {
    "papermill": {
     "duration": 0.029936,
     "end_time": "2021-10-15T13:50:13.361865",
     "exception": false,
     "start_time": "2021-10-15T13:50:13.331929",
     "status": "completed"
    },
    "tags": []
   },
   "source": [
    "### CSV"
   ]
  },
  {
   "cell_type": "code",
   "execution_count": 4,
   "id": "0901ccaa",
   "metadata": {
    "execution": {
     "iopub.execute_input": "2021-10-15T13:50:13.428261Z",
     "iopub.status.busy": "2021-10-15T13:50:13.427503Z",
     "iopub.status.idle": "2021-10-15T13:50:13.450812Z",
     "shell.execute_reply": "2021-10-15T13:50:13.450377Z",
     "shell.execute_reply.started": "2021-10-15T13:41:30.162357Z"
    },
    "papermill": {
     "duration": 0.059489,
     "end_time": "2021-10-15T13:50:13.450915",
     "exception": false,
     "start_time": "2021-10-15T13:50:13.391426",
     "status": "completed"
    },
    "tags": []
   },
   "outputs": [],
   "source": [
    "Mass_Training_image_csv = CBIS['Mass-Training_csv'][:]\n",
    "Calc_Training_image_csv = CBIS['Calc-Training_csv'][:]\n",
    "\n",
    "Mass_Training_ROI_csv = CBIS['Mass-Training_ROI_csv'][:]\n",
    "Calc_Training_ROI_csv = CBIS['Calc-Training_ROI_csv'][:]\n",
    "\n",
    "Mass_Test_image_csv = CBIS['Mass-Test_csv'][:]\n",
    "Calc_Test_image_csv = CBIS['Calc-Test_csv'][:]\n",
    "\n",
    "Mass_Test_ROI_csv = CBIS['Mass-Test_ROI_csv'][:]\n",
    "Calc_Test_ROI_csv = CBIS['Calc-Test_ROI_csv'][:]"
   ]
  },
  {
   "cell_type": "markdown",
   "id": "8084aee5",
   "metadata": {
    "papermill": {
     "duration": 0.029228,
     "end_time": "2021-10-15T13:50:13.509926",
     "exception": false,
     "start_time": "2021-10-15T13:50:13.480698",
     "status": "completed"
    },
    "tags": []
   },
   "source": [
    "### Image"
   ]
  },
  {
   "cell_type": "code",
   "execution_count": 5,
   "id": "bfc8827d",
   "metadata": {
    "execution": {
     "iopub.execute_input": "2021-10-15T13:50:18.453861Z",
     "iopub.status.busy": "2021-10-15T13:50:13.572167Z",
     "iopub.status.idle": "2021-10-15T13:50:21.320813Z",
     "shell.execute_reply": "2021-10-15T13:50:21.320292Z",
     "shell.execute_reply.started": "2021-10-15T13:41:30.212852Z"
    },
    "papermill": {
     "duration": 7.780677,
     "end_time": "2021-10-15T13:50:21.320944",
     "exception": false,
     "start_time": "2021-10-15T13:50:13.540267",
     "status": "completed"
    },
    "tags": []
   },
   "outputs": [],
   "source": [
    "Mass_Training_image = CBIS['Mass-Training_image'][:]\n",
    "Calc_Training_image = CBIS['Calc-Training_image'][:]\n",
    "\n",
    "Mass_Test_image = CBIS['Mass-Test_image'][:]\n",
    "Calc_Test_image = CBIS['Calc-Test_image'][:]\n",
    "\n",
    "Mass_Training_ROI = CBIS['Mass-Training_ROI'][:]\n",
    "Calc_Training_ROI = CBIS['Calc-Training_ROI'][:]\n",
    "\n",
    "Mass_Test_ROI = CBIS['Mass-Test_ROI'][:]\n",
    "Calc_Test_ROI = CBIS['Calc-Test_ROI'][:]"
   ]
  },
  {
   "cell_type": "markdown",
   "id": "280c9034",
   "metadata": {
    "papermill": {
     "duration": 0.030356,
     "end_time": "2021-10-15T13:50:21.382122",
     "exception": false,
     "start_time": "2021-10-15T13:50:21.351766",
     "status": "completed"
    },
    "tags": []
   },
   "source": [
    "## Data Preparation"
   ]
  },
  {
   "cell_type": "markdown",
   "id": "d1b6a28a",
   "metadata": {
    "papermill": {
     "duration": 0.030674,
     "end_time": "2021-10-15T13:50:21.443407",
     "exception": false,
     "start_time": "2021-10-15T13:50:21.412733",
     "status": "completed"
    },
    "tags": []
   },
   "source": [
    "### Data Balance"
   ]
  },
  {
   "cell_type": "code",
   "execution_count": 6,
   "id": "ad71a01c",
   "metadata": {
    "execution": {
     "iopub.execute_input": "2021-10-15T13:50:21.539665Z",
     "iopub.status.busy": "2021-10-15T13:50:21.531031Z",
     "iopub.status.idle": "2021-10-15T13:50:21.799891Z",
     "shell.execute_reply": "2021-10-15T13:50:21.800295Z",
     "shell.execute_reply.started": "2021-10-15T13:41:41.110883Z"
    },
    "papermill": {
     "duration": 0.326718,
     "end_time": "2021-10-15T13:50:21.800468",
     "exception": false,
     "start_time": "2021-10-15T13:50:21.473750",
     "status": "completed"
    },
    "tags": []
   },
   "outputs": [
    {
     "data": {
      "text/plain": [
       "<seaborn.axisgrid.FacetGrid at 0x7f34ecd34f10>"
      ]
     },
     "execution_count": 6,
     "metadata": {},
     "output_type": "execute_result"
    },
    {
     "data": {
      "image/png": "[encoded data removed]",
      "text/plain": [
       "<Figure size 360x360 with 1 Axes>"
      ]
     },
     "metadata": {
      "needs_background": "light"
     },
     "output_type": "display_data"
    }
   ],
   "source": [
    "sns.displot(np.concatenate(\n",
    "    [Mass_Training_ROI_csv['pathology'], \n",
    "     Calc_Training_ROI_csv['pathology']])\n",
    "           )"
   ]
  },
  {
   "cell_type": "markdown",
   "id": "1c7a85b6",
   "metadata": {
    "papermill": {
     "duration": 0.03019,
     "end_time": "2021-10-15T13:50:21.861642",
     "exception": false,
     "start_time": "2021-10-15T13:50:21.831452",
     "status": "completed"
    },
    "tags": []
   },
   "source": [
    "## Response variables"
   ]
  },
  {
   "cell_type": "markdown",
   "id": "7005bf91",
   "metadata": {
    "papermill": {
     "duration": 0.030285,
     "end_time": "2021-10-15T13:50:21.922254",
     "exception": false,
     "start_time": "2021-10-15T13:50:21.891969",
     "status": "completed"
    },
    "tags": []
   },
   "source": [
    "### Pathology"
   ]
  },
  {
   "cell_type": "markdown",
   "id": "37f4b915",
   "metadata": {
    "papermill": {
     "duration": 0.030398,
     "end_time": "2021-10-15T13:50:21.983259",
     "exception": false,
     "start_time": "2021-10-15T13:50:21.952861",
     "status": "completed"
    },
    "tags": []
   },
   "source": [
    "Benign cases are formed from screening exams in which something suspicious was found, but was determined to not be malignant (by pathology, ultrasound or some other means). The term benign without callback is used to identify benign cases in which no additional films or biopsy was done to make the benign finding. These cases, however, contained something interesting enough for the radiologist to mark. **A small number of cancer cases may contain, in addition to one or more regions that are path-proven malignant, one or more regions that are unproven.** These are suspicious regions for which there is no path result. \n",
    "\n",
    "Since there are only a small number of malignant case in benign without callback, we will map 'benign without callback' into benign"
   ]
  },
  {
   "cell_type": "code",
   "execution_count": 7,
   "id": "7f205482",
   "metadata": {
    "execution": {
     "iopub.execute_input": "2021-10-15T13:50:22.050297Z",
     "iopub.status.busy": "2021-10-15T13:50:22.048788Z",
     "iopub.status.idle": "2021-10-15T13:50:22.051002Z",
     "shell.execute_reply": "2021-10-15T13:50:22.051428Z",
     "shell.execute_reply.started": "2021-10-15T13:41:41.676553Z"
    },
    "papermill": {
     "duration": 0.037935,
     "end_time": "2021-10-15T13:50:22.051551",
     "exception": false,
     "start_time": "2021-10-15T13:50:22.013616",
     "status": "completed"
    },
    "tags": []
   },
   "outputs": [],
   "source": [
    "def modifyPathology(df):\n",
    "    x = df['pathology']\n",
    "    df['pathology'] = np.where(x == b'BENIGN_WITHOUT_CALLBACK', b'BENIGN', x)\n",
    "    return df"
   ]
  },
  {
   "cell_type": "code",
   "execution_count": 8,
   "id": "30b084cc",
   "metadata": {
    "execution": {
     "iopub.execute_input": "2021-10-15T13:50:22.118351Z",
     "iopub.status.busy": "2021-10-15T13:50:22.116949Z",
     "iopub.status.idle": "2021-10-15T13:50:22.119117Z",
     "shell.execute_reply": "2021-10-15T13:50:22.119564Z",
     "shell.execute_reply.started": "2021-10-15T13:41:41.684292Z"
    },
    "papermill": {
     "duration": 0.037316,
     "end_time": "2021-10-15T13:50:22.119692",
     "exception": false,
     "start_time": "2021-10-15T13:50:22.082376",
     "status": "completed"
    },
    "tags": []
   },
   "outputs": [],
   "source": [
    "Mass_Training_ROI_csv = modifyPathology(Mass_Training_ROI_csv)\n",
    "Calc_Training_ROI_csv = modifyPathology(Calc_Training_ROI_csv)\n",
    "Mass_Test_ROI_csv = modifyPathology(Mass_Test_ROI_csv)\n",
    "Calc_Test_ROI_csv = modifyPathology(Calc_Test_ROI_csv)"
   ]
  },
  {
   "cell_type": "markdown",
   "id": "6ab30197",
   "metadata": {
    "papermill": {
     "duration": 0.030645,
     "end_time": "2021-10-15T13:50:22.180599",
     "exception": false,
     "start_time": "2021-10-15T13:50:22.149954",
     "status": "completed"
    },
    "tags": []
   },
   "source": [
    "For each X-ray image, multiple abnormality may found. We consider that if any of the abnormality is malignant, the image will be signed as malignant. We also defines benign as 0 and malignant as 1."
   ]
  },
  {
   "cell_type": "code",
   "execution_count": 9,
   "id": "f23e1bb7",
   "metadata": {
    "execution": {
     "iopub.execute_input": "2021-10-15T13:50:22.249349Z",
     "iopub.status.busy": "2021-10-15T13:50:22.248858Z",
     "iopub.status.idle": "2021-10-15T13:50:22.251958Z",
     "shell.execute_reply": "2021-10-15T13:50:22.252334Z",
     "shell.execute_reply.started": "2021-10-15T13:41:41.698994Z"
    },
    "papermill": {
     "duration": 0.040901,
     "end_time": "2021-10-15T13:50:22.252479",
     "exception": false,
     "start_time": "2021-10-15T13:50:22.211578",
     "status": "completed"
    },
    "tags": []
   },
   "outputs": [],
   "source": [
    "def class2onehot(array, n_class = 2):\n",
    "    b = np.zeros((array.size, 2), dtype = np.int32)\n",
    "    b[np.arange(array.size),array] = 1\n",
    "    return b\n",
    "\n",
    "def AbnormalityAggregate(images, roi):\n",
    "    Pathologys_array = []\n",
    "    for img in tqdm(images):\n",
    "        id_match = roi[roi['patient_id'] == img[0]]\n",
    "        breast_match = id_match[id_match['left or right breast'] == img[1]]\n",
    "        view_match = breast_match[breast_match['image view'] == img[2]]\n",
    "        \n",
    "        Pathology = 0\n",
    "        for i in view_match:\n",
    "            if(i[4] == b'MALIGNANT'):\n",
    "                Pathology = 1\n",
    "                break\n",
    "        Pathologys_array.append(Pathology)\n",
    "        onehot = class2onehot(np.array(Pathologys_array, dtype = np.int32))\n",
    "    return onehot"
   ]
  },
  {
   "cell_type": "code",
   "execution_count": 10,
   "id": "24233dbf",
   "metadata": {
    "execution": {
     "iopub.execute_input": "2021-10-15T13:50:22.373960Z",
     "iopub.status.busy": "2021-10-15T13:50:22.367340Z",
     "iopub.status.idle": "2021-10-15T13:50:22.936168Z",
     "shell.execute_reply": "2021-10-15T13:50:22.936582Z",
     "shell.execute_reply.started": "2021-10-15T13:41:41.715147Z"
    },
    "papermill": {
     "duration": 0.631491,
     "end_time": "2021-10-15T13:50:22.936734",
     "exception": false,
     "start_time": "2021-10-15T13:50:22.305243",
     "status": "completed"
    },
    "tags": []
   },
   "outputs": [
    {
     "name": "stderr",
     "output_type": "stream",
     "text": [
      "100%|██████████| 1231/1231 [00:00<00:00, 4369.02it/s]\n",
      "100%|██████████| 1227/1227 [00:00<00:00, 5336.43it/s]\n",
      "100%|██████████| 361/361 [00:00<00:00, 16476.17it/s]\n",
      "100%|██████████| 284/284 [00:00<00:00, 17568.28it/s]\n"
     ]
    }
   ],
   "source": [
    "y1_Mass_Training_Pathology = AbnormalityAggregate(Mass_Training_image_csv, Mass_Training_ROI_csv)\n",
    "y1_Calc_Training_Pathology = AbnormalityAggregate(Calc_Training_image_csv, Calc_Training_ROI_csv)\n",
    "y1_Mass_Test_Pathology = AbnormalityAggregate(Mass_Test_image_csv, Mass_Test_ROI_csv)\n",
    "y1_Calc_Test_Pathology = AbnormalityAggregate(Calc_Test_image_csv, Calc_Test_ROI_csv)"
   ]
  },
  {
   "cell_type": "markdown",
   "id": "09145976",
   "metadata": {
    "papermill": {
     "duration": 0.034104,
     "end_time": "2021-10-15T13:50:23.005083",
     "exception": false,
     "start_time": "2021-10-15T13:50:22.970979",
     "status": "completed"
    },
    "tags": []
   },
   "source": [
    "Since the model should and will only one output for ROI. We will merge all the ROI image for a patient into one image"
   ]
  },
  {
   "cell_type": "code",
   "execution_count": 11,
   "id": "3cb6a4a6",
   "metadata": {
    "execution": {
     "iopub.execute_input": "2021-10-15T13:50:23.079542Z",
     "iopub.status.busy": "2021-10-15T13:50:23.078869Z",
     "iopub.status.idle": "2021-10-15T13:50:23.081634Z",
     "shell.execute_reply": "2021-10-15T13:50:23.081167Z",
     "shell.execute_reply.started": "2021-10-15T13:41:42.165358Z"
    },
    "papermill": {
     "duration": 0.04288,
     "end_time": "2021-10-15T13:50:23.081746",
     "exception": false,
     "start_time": "2021-10-15T13:50:23.038866",
     "status": "completed"
    },
    "tags": []
   },
   "outputs": [],
   "source": [
    "def ROIMerge(images_csv, roi_csv, roi):\n",
    "    roi_array = np.zeros(shape = (len(images_csv), 224,224), dtype = np.int32)\n",
    "    for i in tqdm(range(len(images_csv))):\n",
    "        img = images_csv[i]\n",
    "        id_match     = roi_csv['patient_id'] == img[0]\n",
    "        breast_match = roi_csv['left or right breast'] == img[1]\n",
    "        view_match   = roi_csv['image view'] == img[2]\n",
    "        \n",
    "        all_match = id_match & breast_match & view_match\n",
    "        \n",
    "        roi_array[i] = (np.sum(roi[all_match], axis = 0) > 0)\n",
    "        \n",
    "    return roi_array"
   ]
  },
  {
   "cell_type": "code",
   "execution_count": 12,
   "id": "939fcb25",
   "metadata": {
    "execution": {
     "iopub.execute_input": "2021-10-15T13:50:23.156221Z",
     "iopub.status.busy": "2021-10-15T13:50:23.154342Z",
     "iopub.status.idle": "2021-10-15T13:50:23.934367Z",
     "shell.execute_reply": "2021-10-15T13:50:23.934770Z",
     "shell.execute_reply.started": "2021-10-15T13:41:42.177462Z"
    },
    "papermill": {
     "duration": 0.819021,
     "end_time": "2021-10-15T13:50:23.934911",
     "exception": false,
     "start_time": "2021-10-15T13:50:23.115890",
     "status": "completed"
    },
    "tags": []
   },
   "outputs": [
    {
     "name": "stderr",
     "output_type": "stream",
     "text": [
      "100%|██████████| 1231/1231 [00:00<00:00, 4031.57it/s]\n",
      "100%|██████████| 1227/1227 [00:00<00:00, 3816.73it/s]\n",
      "100%|██████████| 361/361 [00:00<00:00, 4699.33it/s]\n",
      "100%|██████████| 284/284 [00:00<00:00, 4600.30it/s]\n"
     ]
    }
   ],
   "source": [
    "y2_Mass_Training_ROI = ROIMerge(Mass_Training_image_csv, Mass_Training_ROI_csv, Mass_Training_ROI)\n",
    "y2_Calc_Training_ROI = ROIMerge(Calc_Training_image_csv, Calc_Training_ROI_csv, Calc_Training_ROI)\n",
    "y2_Mass_Test_ROI = ROIMerge(Mass_Test_image_csv, Mass_Test_ROI_csv, Mass_Test_ROI)\n",
    "y2_Calc_Test_ROI = ROIMerge(Calc_Test_image_csv, Calc_Test_ROI_csv, Calc_Test_ROI)"
   ]
  },
  {
   "cell_type": "markdown",
   "id": "40ccb8c4",
   "metadata": {
    "papermill": {
     "duration": 0.038511,
     "end_time": "2021-10-15T13:50:24.012582",
     "exception": false,
     "start_time": "2021-10-15T13:50:23.974071",
     "status": "completed"
    },
    "tags": []
   },
   "source": [
    "### Data concatenating"
   ]
  },
  {
   "cell_type": "code",
   "execution_count": 13,
   "id": "4e3d34f3",
   "metadata": {
    "execution": {
     "iopub.execute_input": "2021-10-15T13:50:24.095544Z",
     "iopub.status.busy": "2021-10-15T13:50:24.094955Z",
     "iopub.status.idle": "2021-10-15T13:50:24.375918Z",
     "shell.execute_reply": "2021-10-15T13:50:24.375465Z",
     "shell.execute_reply.started": "2021-10-15T13:41:43.209208Z"
    },
    "papermill": {
     "duration": 0.325022,
     "end_time": "2021-10-15T13:50:24.376045",
     "exception": false,
     "start_time": "2021-10-15T13:50:24.051023",
     "status": "completed"
    },
    "tags": []
   },
   "outputs": [],
   "source": [
    "X_train = np.concatenate([Mass_Training_image, Calc_Training_image])[..., np.newaxis]\n",
    "X_test = np.concatenate([Mass_Test_image, Calc_Test_image])[..., np.newaxis]\n",
    "\n",
    "Y1_train = np.concatenate([y1_Mass_Training_Pathology, y1_Calc_Training_Pathology])\n",
    "Y1_test = np.concatenate([y1_Mass_Test_Pathology, y1_Calc_Test_Pathology])\n",
    "\n",
    "Y2_train = np.concatenate([y2_Mass_Training_ROI, y2_Calc_Training_ROI])\n",
    "Y2_test = np.concatenate([y2_Mass_Test_ROI, y2_Calc_Test_ROI])"
   ]
  },
  {
   "cell_type": "markdown",
   "id": "27609fec",
   "metadata": {
    "papermill": {
     "duration": 0.038174,
     "end_time": "2021-10-15T13:50:24.453186",
     "exception": false,
     "start_time": "2021-10-15T13:50:24.415012",
     "status": "completed"
    },
    "tags": []
   },
   "source": [
    "### Grayscale to RGB"
   ]
  },
  {
   "cell_type": "code",
   "execution_count": 14,
   "id": "c22315e8",
   "metadata": {
    "execution": {
     "iopub.execute_input": "2021-10-15T13:50:24.535165Z",
     "iopub.status.busy": "2021-10-15T13:50:24.534232Z",
     "iopub.status.idle": "2021-10-15T13:50:24.830641Z",
     "shell.execute_reply": "2021-10-15T13:50:24.830179Z",
     "shell.execute_reply.started": "2021-10-15T13:41:43.530780Z"
    },
    "papermill": {
     "duration": 0.339095,
     "end_time": "2021-10-15T13:50:24.830777",
     "exception": false,
     "start_time": "2021-10-15T13:50:24.491682",
     "status": "completed"
    },
    "tags": []
   },
   "outputs": [],
   "source": [
    "X_train = np.concatenate([X_train,X_train,X_train], axis =3)\n",
    "X_test = np.concatenate([X_test,X_test,X_test], axis =3)\n"
   ]
  },
  {
   "cell_type": "markdown",
   "id": "60130586",
   "metadata": {
    "papermill": {
     "duration": 0.038592,
     "end_time": "2021-10-15T13:50:24.908276",
     "exception": false,
     "start_time": "2021-10-15T13:50:24.869684",
     "status": "completed"
    },
    "tags": []
   },
   "source": [
    "### Random shuffle and Train validation split"
   ]
  },
  {
   "cell_type": "code",
   "execution_count": 15,
   "id": "df7ceba7",
   "metadata": {
    "execution": {
     "iopub.execute_input": "2021-10-15T13:50:24.993201Z",
     "iopub.status.busy": "2021-10-15T13:50:24.992554Z",
     "iopub.status.idle": "2021-10-15T13:50:24.995513Z",
     "shell.execute_reply": "2021-10-15T13:50:24.995914Z",
     "shell.execute_reply.started": "2021-10-15T13:41:43.875420Z"
    },
    "papermill": {
     "duration": 0.049209,
     "end_time": "2021-10-15T13:50:24.996035",
     "exception": false,
     "start_time": "2021-10-15T13:50:24.946826",
     "status": "completed"
    },
    "tags": []
   },
   "outputs": [
    {
     "data": {
      "text/plain": [
       "array([1972, 1051, 1814, ...,   70, 1559,  427])"
      ]
     },
     "execution_count": 15,
     "metadata": {},
     "output_type": "execute_result"
    }
   ],
   "source": [
    "shuffle_order = np.arange(len(X_train))\n",
    "np.random.shuffle(shuffle_order)\n",
    "shuffle_order"
   ]
  },
  {
   "cell_type": "code",
   "execution_count": 16,
   "id": "78b09c4c",
   "metadata": {
    "execution": {
     "iopub.execute_input": "2021-10-15T13:50:25.077302Z",
     "iopub.status.busy": "2021-10-15T13:50:25.076539Z",
     "iopub.status.idle": "2021-10-15T13:50:25.078574Z",
     "shell.execute_reply": "2021-10-15T13:50:25.078934Z",
     "shell.execute_reply.started": "2021-10-15T13:41:43.888354Z"
    },
    "papermill": {
     "duration": 0.044375,
     "end_time": "2021-10-15T13:50:25.079057",
     "exception": false,
     "start_time": "2021-10-15T13:50:25.034682",
     "status": "completed"
    },
    "tags": []
   },
   "outputs": [],
   "source": [
    "validation_size = .2\n",
    "validation_size = int(len(shuffle_order)*validation_size)"
   ]
  },
  {
   "cell_type": "code",
   "execution_count": 17,
   "id": "7f35a484",
   "metadata": {
    "execution": {
     "iopub.execute_input": "2021-10-15T13:50:25.160319Z",
     "iopub.status.busy": "2021-10-15T13:50:25.159831Z",
     "iopub.status.idle": "2021-10-15T13:50:25.162918Z",
     "shell.execute_reply": "2021-10-15T13:50:25.163405Z",
     "shell.execute_reply.started": "2021-10-15T13:41:43.898407Z"
    },
    "papermill": {
     "duration": 0.045541,
     "end_time": "2021-10-15T13:50:25.163596",
     "exception": false,
     "start_time": "2021-10-15T13:50:25.118055",
     "status": "completed"
    },
    "tags": []
   },
   "outputs": [],
   "source": [
    "train_idx = shuffle_order[validation_size:]\n",
    "validation_idx = shuffle_order[:validation_size]"
   ]
  },
  {
   "cell_type": "code",
   "execution_count": 18,
   "id": "540b2069",
   "metadata": {
    "execution": {
     "iopub.execute_input": "2021-10-15T13:50:25.245498Z",
     "iopub.status.busy": "2021-10-15T13:50:25.244378Z",
     "iopub.status.idle": "2021-10-15T13:50:25.297934Z",
     "shell.execute_reply": "2021-10-15T13:50:25.297456Z",
     "shell.execute_reply.started": "2021-10-15T13:41:43.909545Z"
    },
    "papermill": {
     "duration": 0.095605,
     "end_time": "2021-10-15T13:50:25.298054",
     "exception": false,
     "start_time": "2021-10-15T13:50:25.202449",
     "status": "completed"
    },
    "tags": []
   },
   "outputs": [],
   "source": [
    "X_val = X_train[validation_idx]\n",
    "Y1_val = Y1_train[validation_idx]\n",
    "Y2_val = Y2_train[validation_idx]"
   ]
  },
  {
   "cell_type": "code",
   "execution_count": 19,
   "id": "854eba44",
   "metadata": {
    "execution": {
     "iopub.execute_input": "2021-10-15T13:50:25.381232Z",
     "iopub.status.busy": "2021-10-15T13:50:25.380053Z",
     "iopub.status.idle": "2021-10-15T13:50:25.579391Z",
     "shell.execute_reply": "2021-10-15T13:50:25.578935Z",
     "shell.execute_reply.started": "2021-10-15T13:41:43.987301Z"
    },
    "papermill": {
     "duration": 0.242351,
     "end_time": "2021-10-15T13:50:25.579516",
     "exception": false,
     "start_time": "2021-10-15T13:50:25.337165",
     "status": "completed"
    },
    "tags": []
   },
   "outputs": [],
   "source": [
    "X_train = X_train[train_idx]\n",
    "Y1_train = Y1_train[train_idx]\n",
    "Y2_train = Y2_train[train_idx]"
   ]
  },
  {
   "cell_type": "markdown",
   "id": "c9635d1f",
   "metadata": {
    "papermill": {
     "duration": 0.038702,
     "end_time": "2021-10-15T13:50:25.657154",
     "exception": false,
     "start_time": "2021-10-15T13:50:25.618452",
     "status": "completed"
    },
    "tags": []
   },
   "source": [
    "### ROI class weight"
   ]
  },
  {
   "cell_type": "code",
   "execution_count": 20,
   "id": "ce6580f6",
   "metadata": {
    "execution": {
     "iopub.execute_input": "2021-10-15T13:50:25.739590Z",
     "iopub.status.busy": "2021-10-15T13:50:25.738458Z",
     "iopub.status.idle": "2021-10-15T13:50:27.627131Z",
     "shell.execute_reply": "2021-10-15T13:50:27.626720Z",
     "shell.execute_reply.started": "2021-10-15T13:41:44.260763Z"
    },
    "papermill": {
     "duration": 1.931318,
     "end_time": "2021-10-15T13:50:27.627264",
     "exception": false,
     "start_time": "2021-10-15T13:50:25.695946",
     "status": "completed"
    },
    "tags": []
   },
   "outputs": [
    {
     "data": {
      "text/plain": [
       "Text(0.5, 0, 'Class')"
      ]
     },
     "execution_count": 20,
     "metadata": {},
     "output_type": "execute_result"
    },
    {
     "data": {
      "image/png": "[encoded data removed]",
      "text/plain": [
       "<Figure size 432x288 with 1 Axes>"
      ]
     },
     "metadata": {
      "needs_background": "light"
     },
     "output_type": "display_data"
    }
   ],
   "source": [
    "unique, count = np.unique(Y2_train.flatten(), return_counts = True)\n",
    "plt.bar(unique, count)\n",
    "plt.title('Count of the ROI classes')\n",
    "plt.ylabel('Count')\n",
    "plt.xlabel('Class')"
   ]
  },
  {
   "cell_type": "markdown",
   "id": "42872075",
   "metadata": {
    "papermill": {
     "duration": 0.039244,
     "end_time": "2021-10-15T13:50:27.706814",
     "exception": false,
     "start_time": "2021-10-15T13:50:27.667570",
     "status": "completed"
    },
    "tags": []
   },
   "source": [
    "Since the normal area is sigificantly more than abnormal area, we will give heavily weight on malignant class. https://scikit-learn.org/stable/modules/generated/sklearn.utils.class_weight.compute_class_weight.html"
   ]
  },
  {
   "cell_type": "code",
   "execution_count": 21,
   "id": "b6a66b95",
   "metadata": {
    "execution": {
     "iopub.execute_input": "2021-10-15T13:50:27.793673Z",
     "iopub.status.busy": "2021-10-15T13:50:27.792520Z",
     "iopub.status.idle": "2021-10-15T13:50:54.292553Z",
     "shell.execute_reply": "2021-10-15T13:50:54.292090Z",
     "shell.execute_reply.started": "2021-10-15T13:41:46.341195Z"
    },
    "papermill": {
     "duration": 26.546295,
     "end_time": "2021-10-15T13:50:54.292687",
     "exception": false,
     "start_time": "2021-10-15T13:50:27.746392",
     "status": "completed"
    },
    "tags": []
   },
   "outputs": [
    {
     "name": "stderr",
     "output_type": "stream",
     "text": [
      "/opt/conda/lib/python3.7/site-packages/sklearn/utils/validation.py:70: FutureWarning: Pass classes=[0 1], y=[0 0 0 ... 0 0 0] as keyword args. From version 0.25 passing these as positional arguments will result in an error\n",
      "  FutureWarning)\n"
     ]
    },
    {
     "data": {
      "text/plain": [
       "{0: 0.5057283710819899, 1: 44.14242407165393}"
      ]
     },
     "execution_count": 21,
     "metadata": {},
     "output_type": "execute_result"
    }
   ],
   "source": [
    "ROIweights = class_weight.compute_class_weight('balanced',\n",
    "                                                unique,\n",
    "                                                Y2_train.flatten())\n",
    "ROIweights = {0: ROIweights[0], 1: ROIweights[1]}\n",
    "ROIweights"
   ]
  },
  {
   "cell_type": "markdown",
   "id": "b7192ad9",
   "metadata": {
    "papermill": {
     "duration": 0.041257,
     "end_time": "2021-10-15T13:50:54.376002",
     "exception": false,
     "start_time": "2021-10-15T13:50:54.334745",
     "status": "completed"
    },
    "tags": []
   },
   "source": [
    "## Model 1: Single tasking"
   ]
  },
  {
   "cell_type": "code",
   "execution_count": 22,
   "id": "65756985",
   "metadata": {
    "execution": {
     "iopub.execute_input": "2021-10-15T13:50:54.466617Z",
     "iopub.status.busy": "2021-10-15T13:50:54.465805Z",
     "iopub.status.idle": "2021-10-15T13:50:54.468139Z",
     "shell.execute_reply": "2021-10-15T13:50:54.467752Z"
    },
    "papermill": {
     "duration": 0.05185,
     "end_time": "2021-10-15T13:50:54.468242",
     "exception": false,
     "start_time": "2021-10-15T13:50:54.416392",
     "status": "completed"
    },
    "tags": []
   },
   "outputs": [],
   "source": [
    "def model1_build():\n",
    "    tf.random.set_seed(20211012)\n",
    "    EfficientNet_encode = keras.applications.EfficientNetB0(include_top=False, \n",
    "                                                            input_shape = (224,224,3),\n",
    "                                                            weights='imagenet', \n",
    "                                                            pooling = 'avg')\n",
    "    \n",
    "    backbone = keras.Model(inputs = EfficientNet_encode.layers[0].output, \n",
    "                        outputs = EfficientNet_encode.layers[-1].output,\n",
    "                        name = \"EfficientNetB0\"\n",
    "                       )\n",
    "    \n",
    "    input_layer = layers.Input((224,224,3), name = \"Input Layer\")\n",
    "    \n",
    "    x = backbone(input_layer)\n",
    "    \n",
    "    \n",
    "    x = layers.Flatten()(x)\n",
    "    x = layers.Dense(units=1024, activation=tf.nn.leaky_relu)(x)\n",
    "    x = layers.Dense(units=512, activation=tf.nn.leaky_relu)(x)\n",
    "    x = layers.Dense(units=128, activation=tf.nn.leaky_relu)(x)\n",
    "    x = layers.BatchNormalization()(x)\n",
    "    x = layers.Dropout(0.2)(x)\n",
    "    out = layers.Dense(units=2, activation='softmax', name=\"output\")(x)\n",
    "    \n",
    "    model = keras.Model(input_layer, out)\n",
    "    model.compile(loss = keras.losses.CategoricalCrossentropy(from_logits=False),\n",
    "                  optimizer=keras.optimizers.Adam(learning_rate = 0.001), \n",
    "                  metrics=[metrics.CategoricalAccuracy()])\n",
    "\n",
    "    return model"
   ]
  },
  {
   "cell_type": "code",
   "execution_count": 23,
   "id": "cce13f65",
   "metadata": {
    "execution": {
     "iopub.execute_input": "2021-10-15T13:50:54.555171Z",
     "iopub.status.busy": "2021-10-15T13:50:54.554682Z",
     "iopub.status.idle": "2021-10-15T13:50:59.191085Z",
     "shell.execute_reply": "2021-10-15T13:50:59.190195Z"
    },
    "papermill": {
     "duration": 4.682701,
     "end_time": "2021-10-15T13:50:59.191225",
     "exception": false,
     "start_time": "2021-10-15T13:50:54.508524",
     "status": "completed"
    },
    "tags": []
   },
   "outputs": [
    {
     "name": "stderr",
     "output_type": "stream",
     "text": [
      "2021-10-15 13:50:54.583376: I tensorflow/compiler/jit/xla_cpu_device.cc:41] Not creating XLA devices, tf_xla_enable_xla_devices not set\n",
      "2021-10-15 13:50:54.586700: I tensorflow/stream_executor/platform/default/dso_loader.cc:49] Successfully opened dynamic library libcuda.so.1\n",
      "2021-10-15 13:50:54.640915: I tensorflow/stream_executor/cuda/cuda_gpu_executor.cc:941] successful NUMA node read from SysFS had negative value (-1), but there must be at least one NUMA node, so returning NUMA node zero\n",
      "2021-10-15 13:50:54.641545: I tensorflow/core/common_runtime/gpu/gpu_device.cc:1720] Found device 0 with properties: \n",
      "pciBusID: 0000:00:04.0 name: Tesla P100-PCIE-16GB computeCapability: 6.0\n",
      "coreClock: 1.3285GHz coreCount: 56 deviceMemorySize: 15.90GiB deviceMemoryBandwidth: 681.88GiB/s\n",
      "2021-10-15 13:50:54.641606: I tensorflow/stream_executor/platform/default/dso_loader.cc:49] Successfully opened dynamic library libcudart.so.11.0\n",
      "2021-10-15 13:50:54.667295: I tensorflow/stream_executor/platform/default/dso_loader.cc:49] Successfully opened dynamic library libcublas.so.11\n",
      "2021-10-15 13:50:54.667421: I tensorflow/stream_executor/platform/default/dso_loader.cc:49] Successfully opened dynamic library libcublasLt.so.11\n",
      "2021-10-15 13:50:54.682128: I tensorflow/stream_executor/platform/default/dso_loader.cc:49] Successfully opened dynamic library libcufft.so.10\n",
      "2021-10-15 13:50:54.690710: I tensorflow/stream_executor/platform/default/dso_loader.cc:49] Successfully opened dynamic library libcurand.so.10\n",
      "2021-10-15 13:50:54.713878: I tensorflow/stream_executor/platform/default/dso_loader.cc:49] Successfully opened dynamic library libcusolver.so.10\n",
      "2021-10-15 13:50:54.721795: I tensorflow/stream_executor/platform/default/dso_loader.cc:49] Successfully opened dynamic library libcusparse.so.11\n",
      "2021-10-15 13:50:54.725111: I tensorflow/stream_executor/platform/default/dso_loader.cc:49] Successfully opened dynamic library libcudnn.so.8\n",
      "2021-10-15 13:50:54.725294: I tensorflow/stream_executor/cuda/cuda_gpu_executor.cc:941] successful NUMA node read from SysFS had negative value (-1), but there must be at least one NUMA node, so returning NUMA node zero\n",
      "2021-10-15 13:50:54.726044: I tensorflow/stream_executor/cuda/cuda_gpu_executor.cc:941] successful NUMA node read from SysFS had negative value (-1), but there must be at least one NUMA node, so returning NUMA node zero\n",
      "2021-10-15 13:50:54.727904: I tensorflow/core/common_runtime/gpu/gpu_device.cc:1862] Adding visible gpu devices: 0\n",
      "2021-10-15 13:50:54.728335: I tensorflow/core/platform/cpu_feature_guard.cc:142] This TensorFlow binary is optimized with oneAPI Deep Neural Network Library (oneDNN) to use the following CPU instructions in performance-critical operations:  AVX2 AVX512F FMA\n",
      "To enable them in other operations, rebuild TensorFlow with the appropriate compiler flags.\n",
      "2021-10-15 13:50:54.728545: I tensorflow/compiler/jit/xla_gpu_device.cc:99] Not creating XLA devices, tf_xla_enable_xla_devices not set\n",
      "2021-10-15 13:50:54.728700: I tensorflow/stream_executor/cuda/cuda_gpu_executor.cc:941] successful NUMA node read from SysFS had negative value (-1), but there must be at least one NUMA node, so returning NUMA node zero\n",
      "2021-10-15 13:50:54.729271: I tensorflow/core/common_runtime/gpu/gpu_device.cc:1720] Found device 0 with properties: \n",
      "pciBusID: 0000:00:04.0 name: Tesla P100-PCIE-16GB computeCapability: 6.0\n",
      "coreClock: 1.3285GHz coreCount: 56 deviceMemorySize: 15.90GiB deviceMemoryBandwidth: 681.88GiB/s\n",
      "2021-10-15 13:50:54.729317: I tensorflow/stream_executor/platform/default/dso_loader.cc:49] Successfully opened dynamic library libcudart.so.11.0\n",
      "2021-10-15 13:50:54.729339: I tensorflow/stream_executor/platform/default/dso_loader.cc:49] Successfully opened dynamic library libcublas.so.11\n",
      "2021-10-15 13:50:54.729376: I tensorflow/stream_executor/platform/default/dso_loader.cc:49] Successfully opened dynamic library libcublasLt.so.11\n",
      "2021-10-15 13:50:54.729408: I tensorflow/stream_executor/platform/default/dso_loader.cc:49] Successfully opened dynamic library libcufft.so.10\n",
      "2021-10-15 13:50:54.729428: I tensorflow/stream_executor/platform/default/dso_loader.cc:49] Successfully opened dynamic library libcurand.so.10\n",
      "2021-10-15 13:50:54.729446: I tensorflow/stream_executor/platform/default/dso_loader.cc:49] Successfully opened dynamic library libcusolver.so.10\n",
      "2021-10-15 13:50:54.729469: I tensorflow/stream_executor/platform/default/dso_loader.cc:49] Successfully opened dynamic library libcusparse.so.11\n",
      "2021-10-15 13:50:54.729498: I tensorflow/stream_executor/platform/default/dso_loader.cc:49] Successfully opened dynamic library libcudnn.so.8\n",
      "2021-10-15 13:50:54.729581: I tensorflow/stream_executor/cuda/cuda_gpu_executor.cc:941] successful NUMA node read from SysFS had negative value (-1), but there must be at least one NUMA node, so returning NUMA node zero\n",
      "2021-10-15 13:50:54.730196: I tensorflow/stream_executor/cuda/cuda_gpu_executor.cc:941] successful NUMA node read from SysFS had negative value (-1), but there must be at least one NUMA node, so returning NUMA node zero\n",
      "2021-10-15 13:50:54.730736: I tensorflow/core/common_runtime/gpu/gpu_device.cc:1862] Adding visible gpu devices: 0\n",
      "2021-10-15 13:50:54.731487: I tensorflow/stream_executor/platform/default/dso_loader.cc:49] Successfully opened dynamic library libcudart.so.11.0\n",
      "2021-10-15 13:50:56.241961: I tensorflow/core/common_runtime/gpu/gpu_device.cc:1261] Device interconnect StreamExecutor with strength 1 edge matrix:\n",
      "2021-10-15 13:50:56.242009: I tensorflow/core/common_runtime/gpu/gpu_device.cc:1267]      0 \n",
      "2021-10-15 13:50:56.242019: I tensorflow/core/common_runtime/gpu/gpu_device.cc:1280] 0:   N \n",
      "2021-10-15 13:50:56.243763: I tensorflow/stream_executor/cuda/cuda_gpu_executor.cc:941] successful NUMA node read from SysFS had negative value (-1), but there must be at least one NUMA node, so returning NUMA node zero\n",
      "2021-10-15 13:50:56.244505: I tensorflow/stream_executor/cuda/cuda_gpu_executor.cc:941] successful NUMA node read from SysFS had negative value (-1), but there must be at least one NUMA node, so returning NUMA node zero\n",
      "2021-10-15 13:50:56.245150: I tensorflow/stream_executor/cuda/cuda_gpu_executor.cc:941] successful NUMA node read from SysFS had negative value (-1), but there must be at least one NUMA node, so returning NUMA node zero\n",
      "2021-10-15 13:50:56.245720: I tensorflow/core/common_runtime/gpu/gpu_device.cc:1406] Created TensorFlow device (/job:localhost/replica:0/task:0/device:GPU:0 with 14957 MB memory) -> physical GPU (device: 0, name: Tesla P100-PCIE-16GB, pci bus id: 0000:00:04.0, compute capability: 6.0)\n"
     ]
    },
    {
     "name": "stdout",
     "output_type": "stream",
     "text": [
      "Downloading data from https://storage.googleapis.com/keras-applications/efficientnetb0_notop.h5\n",
      "16711680/16705208 [==============================] - 0s 0us/step\n"
     ]
    }
   ],
   "source": [
    "m1 = model1_build()"
   ]
  },
  {
   "cell_type": "code",
   "execution_count": 24,
   "id": "0ea84c83",
   "metadata": {
    "execution": {
     "iopub.execute_input": "2021-10-15T13:50:59.305381Z",
     "iopub.status.busy": "2021-10-15T13:50:59.304842Z",
     "iopub.status.idle": "2021-10-15T13:51:00.172282Z",
     "shell.execute_reply": "2021-10-15T13:51:00.171838Z"
    },
    "papermill": {
     "duration": 0.938514,
     "end_time": "2021-10-15T13:51:00.172429",
     "exception": false,
     "start_time": "2021-10-15T13:50:59.233915",
     "status": "completed"
    },
    "tags": []
   },
   "outputs": [
    {
     "data": {
      "image/png": "[encoded data removed]",
      "text/plain": [
       "<IPython.core.display.Image object>"
      ]
     },
     "execution_count": 24,
     "metadata": {},
     "output_type": "execute_result"
    }
   ],
   "source": [
    "keras.utils.plot_model(m1,show_shapes=True)"
   ]
  },
  {
   "cell_type": "code",
   "execution_count": 25,
   "id": "24676cbb",
   "metadata": {
    "execution": {
     "iopub.execute_input": "2021-10-15T13:51:00.267158Z",
     "iopub.status.busy": "2021-10-15T13:51:00.266592Z",
     "iopub.status.idle": "2021-10-15T13:51:00.925182Z",
     "shell.execute_reply": "2021-10-15T13:51:00.925662Z"
    },
    "papermill": {
     "duration": 0.708323,
     "end_time": "2021-10-15T13:51:00.925823",
     "exception": false,
     "start_time": "2021-10-15T13:51:00.217500",
     "status": "completed"
    },
    "tags": []
   },
   "outputs": [],
   "source": [
    "!mkdir -p /kaggle/working/m1\n",
    "model_checkpoint_callback_m1 = tf.keras.callbacks.ModelCheckpoint(\n",
    "    filepath='/kaggle/working/m1/m1-{epoch:02d}.hdf5',\n",
    "    save_best_only=False,\n",
    "    save_weights_only=False)"
   ]
  },
  {
   "cell_type": "code",
   "execution_count": 26,
   "id": "d6928efa",
   "metadata": {
    "execution": {
     "iopub.execute_input": "2021-10-15T13:51:01.023040Z",
     "iopub.status.busy": "2021-10-15T13:51:01.022467Z",
     "iopub.status.idle": "2021-10-15T13:57:54.196008Z",
     "shell.execute_reply": "2021-10-15T13:57:54.196531Z"
    },
    "papermill": {
     "duration": 413.225866,
     "end_time": "2021-10-15T13:57:54.196780",
     "exception": false,
     "start_time": "2021-10-15T13:51:00.970914",
     "status": "completed"
    },
    "tags": []
   },
   "outputs": [
    {
     "name": "stderr",
     "output_type": "stream",
     "text": [
      "2021-10-15 13:51:01.295397: I tensorflow/compiler/mlir/mlir_graph_optimization_pass.cc:116] None of the MLIR optimization passes are enabled (registered 2)\n",
      "2021-10-15 13:51:01.307179: I tensorflow/core/platform/profile_utils/cpu_utils.cc:112] CPU Frequency: 2000175000 Hz\n"
     ]
    },
    {
     "name": "stdout",
     "output_type": "stream",
     "text": [
      "Epoch 1/30\n"
     ]
    },
    {
     "name": "stderr",
     "output_type": "stream",
     "text": [
      "2021-10-15 13:51:09.463927: I tensorflow/stream_executor/platform/default/dso_loader.cc:49] Successfully opened dynamic library libcublas.so.11\n",
      "2021-10-15 13:51:10.229677: I tensorflow/stream_executor/platform/default/dso_loader.cc:49] Successfully opened dynamic library libcublasLt.so.11\n",
      "2021-10-15 13:51:10.277892: I tensorflow/stream_executor/platform/default/dso_loader.cc:49] Successfully opened dynamic library libcudnn.so.8\n"
     ]
    },
    {
     "name": "stdout",
     "output_type": "stream",
     "text": [
      "20/20 [==============================] - 30s 762ms/step - loss: 1.0859 - categorical_accuracy: 0.5485 - val_loss: 0.9972 - val_categorical_accuracy: 0.4644\n",
      "Epoch 2/30\n",
      "20/20 [==============================] - 13s 634ms/step - loss: 0.6063 - categorical_accuracy: 0.6731 - val_loss: 0.9649 - val_categorical_accuracy: 0.5662\n",
      "Epoch 3/30\n",
      "20/20 [==============================] - 13s 629ms/step - loss: 0.4909 - categorical_accuracy: 0.7560 - val_loss: 1.3037 - val_categorical_accuracy: 0.5621\n",
      "Epoch 4/30\n",
      "20/20 [==============================] - 13s 633ms/step - loss: 0.3769 - categorical_accuracy: 0.8278 - val_loss: 0.7608 - val_categorical_accuracy: 0.6415\n",
      "Epoch 5/30\n",
      "20/20 [==============================] - 12s 621ms/step - loss: 0.2917 - categorical_accuracy: 0.8866 - val_loss: 2.7973 - val_categorical_accuracy: 0.5642\n",
      "Epoch 6/30\n",
      "20/20 [==============================] - 13s 628ms/step - loss: 0.1814 - categorical_accuracy: 0.9278 - val_loss: 1.3152 - val_categorical_accuracy: 0.6701\n",
      "Epoch 7/30\n",
      "20/20 [==============================] - 13s 627ms/step - loss: 0.1687 - categorical_accuracy: 0.9371 - val_loss: 1.9631 - val_categorical_accuracy: 0.6354\n",
      "Epoch 8/30\n",
      "20/20 [==============================] - 12s 623ms/step - loss: 0.1347 - categorical_accuracy: 0.9458 - val_loss: 1.6882 - val_categorical_accuracy: 0.6375\n",
      "Epoch 9/30\n",
      "20/20 [==============================] - 12s 625ms/step - loss: 0.1671 - categorical_accuracy: 0.9423 - val_loss: 1.2126 - val_categorical_accuracy: 0.6884\n",
      "Epoch 10/30\n",
      "20/20 [==============================] - 13s 625ms/step - loss: 0.1234 - categorical_accuracy: 0.9540 - val_loss: 1.2804 - val_categorical_accuracy: 0.7006\n",
      "Epoch 11/30\n",
      "20/20 [==============================] - 13s 629ms/step - loss: 0.0744 - categorical_accuracy: 0.9728 - val_loss: 1.6356 - val_categorical_accuracy: 0.6884\n",
      "Epoch 12/30\n",
      "20/20 [==============================] - 13s 631ms/step - loss: 0.0737 - categorical_accuracy: 0.9752 - val_loss: 1.3227 - val_categorical_accuracy: 0.6965\n",
      "Epoch 13/30\n",
      "20/20 [==============================] - 12s 622ms/step - loss: 0.0642 - categorical_accuracy: 0.9731 - val_loss: 1.8434 - val_categorical_accuracy: 0.6904\n",
      "Epoch 14/30\n",
      "20/20 [==============================] - 13s 632ms/step - loss: 0.0676 - categorical_accuracy: 0.9799 - val_loss: 1.5401 - val_categorical_accuracy: 0.6802\n",
      "Epoch 15/30\n",
      "20/20 [==============================] - 13s 632ms/step - loss: 0.0567 - categorical_accuracy: 0.9767 - val_loss: 1.9297 - val_categorical_accuracy: 0.6558\n",
      "Epoch 16/30\n",
      "20/20 [==============================] - 13s 631ms/step - loss: 0.0465 - categorical_accuracy: 0.9825 - val_loss: 1.2865 - val_categorical_accuracy: 0.7149\n",
      "Epoch 17/30\n",
      "20/20 [==============================] - 13s 626ms/step - loss: 0.0414 - categorical_accuracy: 0.9870 - val_loss: 1.3540 - val_categorical_accuracy: 0.6986\n",
      "Epoch 18/30\n",
      "20/20 [==============================] - 13s 632ms/step - loss: 0.0359 - categorical_accuracy: 0.9860 - val_loss: 1.6999 - val_categorical_accuracy: 0.6945\n",
      "Epoch 19/30\n",
      "20/20 [==============================] - 13s 631ms/step - loss: 0.0467 - categorical_accuracy: 0.9862 - val_loss: 1.9470 - val_categorical_accuracy: 0.7149\n",
      "Epoch 20/30\n",
      "20/20 [==============================] - 13s 627ms/step - loss: 0.0712 - categorical_accuracy: 0.9717 - val_loss: 1.2723 - val_categorical_accuracy: 0.7251\n",
      "Epoch 21/30\n",
      "20/20 [==============================] - 13s 628ms/step - loss: 0.0689 - categorical_accuracy: 0.9763 - val_loss: 1.4134 - val_categorical_accuracy: 0.7088\n",
      "Epoch 22/30\n",
      "20/20 [==============================] - 12s 626ms/step - loss: 0.0488 - categorical_accuracy: 0.9813 - val_loss: 1.2077 - val_categorical_accuracy: 0.7210\n",
      "Epoch 23/30\n",
      "20/20 [==============================] - 13s 630ms/step - loss: 0.0474 - categorical_accuracy: 0.9846 - val_loss: 1.4319 - val_categorical_accuracy: 0.7128\n",
      "Epoch 24/30\n",
      "20/20 [==============================] - 13s 631ms/step - loss: 0.0416 - categorical_accuracy: 0.9817 - val_loss: 1.2454 - val_categorical_accuracy: 0.7210\n",
      "Epoch 25/30\n",
      "20/20 [==============================] - 13s 635ms/step - loss: 0.0342 - categorical_accuracy: 0.9884 - val_loss: 1.3340 - val_categorical_accuracy: 0.6945\n",
      "Epoch 26/30\n",
      "20/20 [==============================] - 13s 628ms/step - loss: 0.0247 - categorical_accuracy: 0.9934 - val_loss: 1.3726 - val_categorical_accuracy: 0.7149\n",
      "Epoch 27/30\n",
      "20/20 [==============================] - 13s 634ms/step - loss: 0.0304 - categorical_accuracy: 0.9891 - val_loss: 1.2898 - val_categorical_accuracy: 0.7210\n",
      "Epoch 28/30\n",
      "20/20 [==============================] - 13s 634ms/step - loss: 0.0470 - categorical_accuracy: 0.9825 - val_loss: 1.7976 - val_categorical_accuracy: 0.6558\n",
      "Epoch 29/30\n",
      "20/20 [==============================] - 13s 629ms/step - loss: 0.0454 - categorical_accuracy: 0.9845 - val_loss: 1.3413 - val_categorical_accuracy: 0.7149\n",
      "Epoch 30/30\n",
      "20/20 [==============================] - 13s 632ms/step - loss: 0.0384 - categorical_accuracy: 0.9863 - val_loss: 1.3217 - val_categorical_accuracy: 0.7413\n"
     ]
    }
   ],
   "source": [
    "History = m1.fit(\n",
    "    x = X_train, \n",
    "    y = Y1_train,\n",
    "    validation_data = (X_val, Y1_val),\n",
    "    batch_size = 100,\n",
    "    epochs=30,\n",
    "    verbose = 1,\n",
    "    callbacks=model_checkpoint_callback_m1\n",
    ")"
   ]
  },
  {
   "cell_type": "code",
   "execution_count": 27,
   "id": "0c747852",
   "metadata": {
    "execution": {
     "iopub.execute_input": "2021-10-15T13:57:54.688455Z",
     "iopub.status.busy": "2021-10-15T13:57:54.676746Z",
     "iopub.status.idle": "2021-10-15T13:57:55.103191Z",
     "shell.execute_reply": "2021-10-15T13:57:55.102572Z"
    },
    "papermill": {
     "duration": 0.694938,
     "end_time": "2021-10-15T13:57:55.103330",
     "exception": false,
     "start_time": "2021-10-15T13:57:54.408392",
     "status": "completed"
    },
    "tags": []
   },
   "outputs": [
    {
     "data": {
      "image/png": "[encoded data removed]",
      "text/plain": [
       "<Figure size 720x360 with 2 Axes>"
      ]
     },
     "metadata": {
      "needs_background": "light"
     },
     "output_type": "display_data"
    }
   ],
   "source": [
    "def plot_loss(history, mid):\n",
    "    plt.figure(figsize=(10,5))\n",
    "    plt.subplot(1, 2, 1)\n",
    "    plt.plot(history.history['loss'], label='train loss')\n",
    "    plt.plot(history.history['val_loss'], label='validation loss')\n",
    "    plt.ylim([0, 2])\n",
    "    plt.xlabel('Epoch')\n",
    "    plt.ylabel('loss')\n",
    "    plt.title(f'The loss for model {mid}')\n",
    "    plt.legend()\n",
    "    plt.grid(True)\n",
    "\n",
    "    plt.subplot(1, 2, 2)\n",
    "    plt.plot(history.history['categorical_accuracy'], label='train accuracy')\n",
    "    plt.plot(history.history['val_categorical_accuracy'], label='validation accuracy')\n",
    "    plt.ylim([0, 1])\n",
    "    plt.xlabel('Epoch')\n",
    "    plt.ylabel('accuracy')\n",
    "    plt.title(f'The accuracy for model {mid}')\n",
    "    plt.legend()\n",
    "    plt.grid(True)\n",
    "    \n",
    "    plt.tight_layout()\n",
    "    plt.show()\n",
    "plot_loss(History, 1)"
   ]
  },
  {
   "cell_type": "code",
   "execution_count": 28,
   "id": "09a717aa",
   "metadata": {
    "execution": {
     "iopub.execute_input": "2021-10-15T13:57:55.533935Z",
     "iopub.status.busy": "2021-10-15T13:57:55.533190Z",
     "iopub.status.idle": "2021-10-15T13:57:55.538195Z",
     "shell.execute_reply": "2021-10-15T13:57:55.538617Z"
    },
    "papermill": {
     "duration": 0.222895,
     "end_time": "2021-10-15T13:57:55.538746",
     "exception": false,
     "start_time": "2021-10-15T13:57:55.315851",
     "status": "completed"
    },
    "tags": []
   },
   "outputs": [],
   "source": [
    "m1 = None\n",
    "tf.keras.backend.clear_session()"
   ]
  },
  {
   "cell_type": "markdown",
   "id": "3b75dd68",
   "metadata": {
    "papermill": {
     "duration": 0.212373,
     "end_time": "2021-10-15T13:57:55.963459",
     "exception": false,
     "start_time": "2021-10-15T13:57:55.751086",
     "status": "completed"
    },
    "tags": []
   },
   "source": [
    "## Model 2: Multitask learning"
   ]
  },
  {
   "cell_type": "code",
   "execution_count": 29,
   "id": "6cebfc05",
   "metadata": {
    "execution": {
     "iopub.execute_input": "2021-10-15T13:57:56.401676Z",
     "iopub.status.busy": "2021-10-15T13:57:56.400053Z",
     "iopub.status.idle": "2021-10-15T13:57:56.402279Z",
     "shell.execute_reply": "2021-10-15T13:57:56.402705Z",
     "shell.execute_reply.started": "2021-10-15T13:42:16.624438Z"
    },
    "papermill": {
     "duration": 0.226785,
     "end_time": "2021-10-15T13:57:56.402834",
     "exception": false,
     "start_time": "2021-10-15T13:57:56.176049",
     "status": "completed"
    },
    "tags": []
   },
   "outputs": [],
   "source": [
    "def weighted_binary_cross_entropy(weights: dict, from_logits: bool = False):\n",
    "    assert 0 in weights\n",
    "    assert 1 in weights\n",
    "\n",
    "    def weighted_cross_entropy_fn(y_true, y_pred):\n",
    "        \n",
    "        size = tf.math.reduce_prod(tf.shape(y_pred))\n",
    "        \n",
    "        tf_y_true = tf.reshape(tf.cast(y_true, dtype=y_pred.dtype), [size,1])\n",
    "        tf_y_pred = tf.reshape(tf.cast(y_pred, dtype=y_pred.dtype), [size,1])\n",
    "        \n",
    "        weights_v = tf.cast(tf.where(tf.equal(tf_y_true, 1), weights[1], weights[0]), dtype=y_pred.dtype)\n",
    "        ce = tf.reshape(metrics.binary_crossentropy(tf_y_true, tf_y_pred, from_logits=from_logits), [size,1])\n",
    "        weighted_loss = tf.math.multiply(ce, weights_v)\n",
    "        loss = tf.math.reduce_mean(weighted_loss)\n",
    "        return loss\n",
    "\n",
    "    return weighted_cross_entropy_fn"
   ]
  },
  {
   "cell_type": "code",
   "execution_count": 30,
   "id": "d2412b02",
   "metadata": {
    "execution": {
     "iopub.execute_input": "2021-10-15T13:57:56.846890Z",
     "iopub.status.busy": "2021-10-15T13:57:56.840394Z",
     "iopub.status.idle": "2021-10-15T13:57:56.850418Z",
     "shell.execute_reply": "2021-10-15T13:57:56.849620Z",
     "shell.execute_reply.started": "2021-10-15T13:42:16.637184Z"
    },
    "papermill": {
     "duration": 0.23597,
     "end_time": "2021-10-15T13:57:56.850532",
     "exception": false,
     "start_time": "2021-10-15T13:57:56.614562",
     "status": "completed"
    },
    "tags": []
   },
   "outputs": [],
   "source": [
    "def model2_build():\n",
    "    tf.random.set_seed(20211012)\n",
    "    \n",
    "    input_layer = layers.Input((224,224,3))\n",
    "    EfficientNet_encode = keras.applications.EfficientNetB0(\n",
    "        include_top=False,\n",
    "        weights='imagenet', \n",
    "        input_tensor=input_layer, \n",
    "        pooling = None)\n",
    "    \n",
    "    ## Output1: Pathology\n",
    "    x = layers.GlobalAveragePooling2D()(EfficientNet_encode.output)\n",
    "    x = layers.Flatten()(x)\n",
    "    x = layers.Dense(units=1024, activation=tf.nn.leaky_relu)(x)\n",
    "    x = layers.Dense(units=512, activation=tf.nn.leaky_relu)(x)\n",
    "    x = layers.Dense(units=128, activation=tf.nn.leaky_relu)(x)\n",
    "    x = layers.BatchNormalization()(x)\n",
    "    x = layers.Dropout(0.2)(x)\n",
    "    out = layers.Dense(units=2, activation='softmax', name=\"Pathology\")(x)\n",
    "    \n",
    "    ## Output2: ROI\n",
    "    \n",
    "    ##7x7 -> 14x14\n",
    "    x = layers.UpSampling2D((2, 2))(EfficientNet_encode.output)\n",
    "    x = layers.Concatenate(axis = 3)([x, EfficientNet_encode.get_layer('block5c_add').output])\n",
    "    x = layers.Conv2D(128, (3, 3), activation=tf.nn.leaky_relu, padding='same')(x)\n",
    "    x = layers.BatchNormalization()(x)\n",
    "    x = layers.SpatialDropout2D(0.2)(x)\n",
    "    x = layers.LeakyReLU()(x)\n",
    "    \n",
    "    ##14x14-> 28x28\n",
    "    x = layers.UpSampling2D((2, 2))(x)\n",
    "    x = layers.Concatenate(axis = 3)([x, EfficientNet_encode.get_layer('block3b_add').output])\n",
    "    x = layers.Conv2D(128, (3, 3), activation=tf.nn.leaky_relu, padding='same')(x)\n",
    "    x = layers.BatchNormalization()(x)\n",
    "    x = layers.SpatialDropout2D(0.2)(x)\n",
    "    x = layers.LeakyReLU()(x)\n",
    "    \n",
    "    ##28x28 -> 56x56\n",
    "    x = layers.UpSampling2D((2, 2))(x)\n",
    "    x = layers.Concatenate(axis = 3)([x, EfficientNet_encode.get_layer('block2b_add').output])\n",
    "    x = layers.Conv2D(128, (5, 5), activation=tf.nn.leaky_relu, padding='same')(x)\n",
    "    x = layers.BatchNormalization()(x)\n",
    "    x = layers.SpatialDropout2D(0.2)(x)\n",
    "    x = layers.LeakyReLU()(x)\n",
    "    \n",
    "    ##56x56 -> 112x112\n",
    "    x = layers.UpSampling2D((2, 2))(x)\n",
    "    x = layers.Concatenate(axis = 3)([x, EfficientNet_encode.get_layer('block1a_project_bn').output])\n",
    "    x = layers.Conv2D(128, (7, 7), activation=tf.nn.leaky_relu, padding='same')(x)\n",
    "    x = layers.BatchNormalization()(x)\n",
    "    x = layers.SpatialDropout2D(0.2)(x)\n",
    "    x = layers.LeakyReLU()(x)\n",
    "    \n",
    "    ##112x112 -> 224x224(ROI size)\n",
    "    x = layers.UpSampling2D((2, 2))(x)\n",
    "    x = layers.Conv2D(128, (7, 7), activation=tf.nn.leaky_relu, padding='same')(x)\n",
    "    x = layers.BatchNormalization()(x)\n",
    "    x = layers.SpatialDropout2D(0.2)(x)\n",
    "    x = layers.LeakyReLU()(x)\n",
    "\n",
    "    decoded = layers.Conv2D(1, (3, 3), activation='sigmoid', padding='same', name = 'ROI')(x)\n",
    "\n",
    "    model = keras.Model(input_layer, [out, decoded])\n",
    "    \n",
    "    model.compile(loss= {\n",
    "                        'Pathology': keras.losses.CategoricalCrossentropy(),\n",
    "                        'ROI'      : weighted_binary_cross_entropy(ROIweights)\n",
    "                        },\n",
    "                  optimizer=keras.optimizers.Adam(learning_rate = 0.002), \n",
    "                  metrics={\n",
    "                        'Pathology': metrics.CategoricalAccuracy(),\n",
    "                        'ROI'      : metrics.BinaryAccuracy()\n",
    "                        }\n",
    "                 )\n",
    "\n",
    "    return model"
   ]
  },
  {
   "cell_type": "code",
   "execution_count": 31,
   "id": "fb913813",
   "metadata": {
    "execution": {
     "iopub.execute_input": "2021-10-15T13:57:57.342572Z",
     "iopub.status.busy": "2021-10-15T13:57:57.341724Z",
     "iopub.status.idle": "2021-10-15T13:57:59.071002Z",
     "shell.execute_reply": "2021-10-15T13:57:59.071436Z",
     "shell.execute_reply.started": "2021-10-15T13:42:16.665844Z"
    },
    "papermill": {
     "duration": 2.007478,
     "end_time": "2021-10-15T13:57:59.071664",
     "exception": false,
     "start_time": "2021-10-15T13:57:57.064186",
     "status": "completed"
    },
    "tags": []
   },
   "outputs": [],
   "source": [
    "m2 = model2_build()"
   ]
  },
  {
   "cell_type": "code",
   "execution_count": 32,
   "id": "5cfd171b",
   "metadata": {
    "execution": {
     "iopub.execute_input": "2021-10-15T13:57:59.580055Z",
     "iopub.status.busy": "2021-10-15T13:57:59.579237Z",
     "iopub.status.idle": "2021-10-15T13:58:00.266598Z",
     "shell.execute_reply": "2021-10-15T13:58:00.266063Z",
     "shell.execute_reply.started": "2021-10-15T13:42:21.705808Z"
    },
    "papermill": {
     "duration": 0.960414,
     "end_time": "2021-10-15T13:58:00.266748",
     "exception": false,
     "start_time": "2021-10-15T13:57:59.306334",
     "status": "completed"
    },
    "tags": []
   },
   "outputs": [],
   "source": [
    "!mkdir -p /kaggle/working/m2\n",
    "model_checkpoint_callback_m2 = tf.keras.callbacks.ModelCheckpoint(\n",
    "    filepath='/kaggle/working/m2/m2-{epoch:02d}.hdf5',\n",
    "    save_best_only=False,\n",
    "    save_weights_only=False)"
   ]
  },
  {
   "cell_type": "code",
   "execution_count": 33,
   "id": "f8eb7eee",
   "metadata": {
    "execution": {
     "iopub.execute_input": "2021-10-15T13:58:00.710688Z",
     "iopub.status.busy": "2021-10-15T13:58:00.710034Z",
     "iopub.status.idle": "2021-10-15T15:38:22.757462Z",
     "shell.execute_reply": "2021-10-15T15:38:22.757908Z"
    },
    "papermill": {
     "duration": 6022.269067,
     "end_time": "2021-10-15T15:38:22.758087",
     "exception": false,
     "start_time": "2021-10-15T13:58:00.489020",
     "status": "completed"
    },
    "tags": []
   },
   "outputs": [
    {
     "name": "stdout",
     "output_type": "stream",
     "text": [
      "Epoch 1/100\n",
      "66/66 [==============================] - 79s 981ms/step - loss: 1.8427 - Pathology_loss: 0.9621 - ROI_loss: 0.8806 - Pathology_categorical_accuracy: 0.5244 - ROI_binary_accuracy: 0.5953 - val_loss: 2.1580 - val_Pathology_loss: 1.5083 - val_ROI_loss: 0.6498 - val_Pathology_categorical_accuracy: 0.5580 - val_ROI_binary_accuracy: 0.7563\n",
      "Epoch 2/100\n",
      "66/66 [==============================] - 59s 899ms/step - loss: 1.0819 - Pathology_loss: 0.7307 - ROI_loss: 0.3512 - Pathology_categorical_accuracy: 0.6102 - ROI_binary_accuracy: 0.7748 - val_loss: 1.4396 - val_Pathology_loss: 1.0546 - val_ROI_loss: 0.3850 - val_Pathology_categorical_accuracy: 0.5866 - val_ROI_binary_accuracy: 0.7465\n",
      "Epoch 3/100\n",
      "66/66 [==============================] - 59s 897ms/step - loss: 1.0696 - Pathology_loss: 0.6869 - ROI_loss: 0.3827 - Pathology_categorical_accuracy: 0.6399 - ROI_binary_accuracy: 0.7358 - val_loss: 2.4219 - val_Pathology_loss: 1.8226 - val_ROI_loss: 0.5994 - val_Pathology_categorical_accuracy: 0.5927 - val_ROI_binary_accuracy: 0.6723\n",
      "Epoch 4/100\n",
      "66/66 [==============================] - 59s 897ms/step - loss: 0.9663 - Pathology_loss: 0.6231 - ROI_loss: 0.3432 - Pathology_categorical_accuracy: 0.6956 - ROI_binary_accuracy: 0.7686 - val_loss: 32.4530 - val_Pathology_loss: 31.7127 - val_ROI_loss: 0.7403 - val_Pathology_categorical_accuracy: 0.6110 - val_ROI_binary_accuracy: 0.6028\n",
      "Epoch 5/100\n",
      "66/66 [==============================] - 59s 897ms/step - loss: 0.9211 - Pathology_loss: 0.5981 - ROI_loss: 0.3230 - Pathology_categorical_accuracy: 0.7025 - ROI_binary_accuracy: 0.7922 - val_loss: 5.3941 - val_Pathology_loss: 4.6468 - val_ROI_loss: 0.7473 - val_Pathology_categorical_accuracy: 0.6558 - val_ROI_binary_accuracy: 0.7184\n",
      "Epoch 6/100\n",
      "66/66 [==============================] - 59s 897ms/step - loss: 0.8424 - Pathology_loss: 0.5252 - ROI_loss: 0.3173 - Pathology_categorical_accuracy: 0.7604 - ROI_binary_accuracy: 0.7864 - val_loss: 4.0596 - val_Pathology_loss: 3.5502 - val_ROI_loss: 0.5094 - val_Pathology_categorical_accuracy: 0.7128 - val_ROI_binary_accuracy: 0.8200\n",
      "Epoch 7/100\n",
      "66/66 [==============================] - 59s 898ms/step - loss: 0.7571 - Pathology_loss: 0.4518 - ROI_loss: 0.3052 - Pathology_categorical_accuracy: 0.8037 - ROI_binary_accuracy: 0.8025 - val_loss: 4.4833 - val_Pathology_loss: 3.9950 - val_ROI_loss: 0.4883 - val_Pathology_categorical_accuracy: 0.6293 - val_ROI_binary_accuracy: 0.6774\n",
      "Epoch 8/100\n",
      "66/66 [==============================] - 59s 897ms/step - loss: 0.7208 - Pathology_loss: 0.4148 - ROI_loss: 0.3060 - Pathology_categorical_accuracy: 0.8180 - ROI_binary_accuracy: 0.8045 - val_loss: 1.5429 - val_Pathology_loss: 1.1012 - val_ROI_loss: 0.4417 - val_Pathology_categorical_accuracy: 0.5845 - val_ROI_binary_accuracy: 0.6817\n",
      "Epoch 9/100\n",
      "66/66 [==============================] - 59s 897ms/step - loss: 0.7071 - Pathology_loss: 0.4205 - ROI_loss: 0.2867 - Pathology_categorical_accuracy: 0.8194 - ROI_binary_accuracy: 0.7977 - val_loss: 3.0851 - val_Pathology_loss: 2.7477 - val_ROI_loss: 0.3374 - val_Pathology_categorical_accuracy: 0.4969 - val_ROI_binary_accuracy: 0.7633\n",
      "Epoch 10/100\n",
      "66/66 [==============================] - 59s 897ms/step - loss: 0.6539 - Pathology_loss: 0.3579 - ROI_loss: 0.2960 - Pathology_categorical_accuracy: 0.8360 - ROI_binary_accuracy: 0.8103 - val_loss: 1.6535 - val_Pathology_loss: 1.3346 - val_ROI_loss: 0.3189 - val_Pathology_categorical_accuracy: 0.6843 - val_ROI_binary_accuracy: 0.7665\n",
      "Epoch 11/100\n",
      "66/66 [==============================] - 59s 897ms/step - loss: 0.5546 - Pathology_loss: 0.2800 - ROI_loss: 0.2746 - Pathology_categorical_accuracy: 0.8697 - ROI_binary_accuracy: 0.8223 - val_loss: 1.6808 - val_Pathology_loss: 1.3304 - val_ROI_loss: 0.3504 - val_Pathology_categorical_accuracy: 0.6314 - val_ROI_binary_accuracy: 0.7584\n",
      "Epoch 12/100\n",
      "66/66 [==============================] - 59s 897ms/step - loss: 0.5502 - Pathology_loss: 0.2893 - ROI_loss: 0.2609 - Pathology_categorical_accuracy: 0.8772 - ROI_binary_accuracy: 0.8365 - val_loss: 2.1276 - val_Pathology_loss: 1.6559 - val_ROI_loss: 0.4717 - val_Pathology_categorical_accuracy: 0.5906 - val_ROI_binary_accuracy: 0.7175\n",
      "Epoch 13/100\n",
      "66/66 [==============================] - 59s 898ms/step - loss: 0.4523 - Pathology_loss: 0.2003 - ROI_loss: 0.2519 - Pathology_categorical_accuracy: 0.9181 - ROI_binary_accuracy: 0.8427 - val_loss: 1.4836 - val_Pathology_loss: 1.1054 - val_ROI_loss: 0.3782 - val_Pathology_categorical_accuracy: 0.6619 - val_ROI_binary_accuracy: 0.8126\n",
      "Epoch 14/100\n",
      "66/66 [==============================] - 59s 896ms/step - loss: 0.5166 - Pathology_loss: 0.2580 - ROI_loss: 0.2586 - Pathology_categorical_accuracy: 0.9046 - ROI_binary_accuracy: 0.8380 - val_loss: 1.3230 - val_Pathology_loss: 0.9726 - val_ROI_loss: 0.3504 - val_Pathology_categorical_accuracy: 0.6986 - val_ROI_binary_accuracy: 0.8573\n",
      "Epoch 15/100\n",
      "66/66 [==============================] - 59s 897ms/step - loss: 0.4439 - Pathology_loss: 0.1912 - ROI_loss: 0.2527 - Pathology_categorical_accuracy: 0.9250 - ROI_binary_accuracy: 0.8460 - val_loss: 1.2304 - val_Pathology_loss: 0.9391 - val_ROI_loss: 0.2913 - val_Pathology_categorical_accuracy: 0.7006 - val_ROI_binary_accuracy: 0.8458\n",
      "Epoch 16/100\n",
      "66/66 [==============================] - 59s 896ms/step - loss: 0.3417 - Pathology_loss: 0.1204 - ROI_loss: 0.2214 - Pathology_categorical_accuracy: 0.9632 - ROI_binary_accuracy: 0.8715 - val_loss: 2.0070 - val_Pathology_loss: 1.6660 - val_ROI_loss: 0.3410 - val_Pathology_categorical_accuracy: 0.6273 - val_ROI_binary_accuracy: 0.8748\n",
      "Epoch 17/100\n",
      "66/66 [==============================] - 59s 897ms/step - loss: 0.3999 - Pathology_loss: 0.1684 - ROI_loss: 0.2314 - Pathology_categorical_accuracy: 0.9328 - ROI_binary_accuracy: 0.8616 - val_loss: 1.5732 - val_Pathology_loss: 1.1602 - val_ROI_loss: 0.4130 - val_Pathology_categorical_accuracy: 0.7393 - val_ROI_binary_accuracy: 0.7639\n",
      "Epoch 18/100\n",
      "66/66 [==============================] - 59s 899ms/step - loss: 0.3171 - Pathology_loss: 0.1001 - ROI_loss: 0.2170 - Pathology_categorical_accuracy: 0.9700 - ROI_binary_accuracy: 0.8750 - val_loss: 1.3889 - val_Pathology_loss: 1.0678 - val_ROI_loss: 0.3212 - val_Pathology_categorical_accuracy: 0.7067 - val_ROI_binary_accuracy: 0.8569\n",
      "Epoch 19/100\n",
      "66/66 [==============================] - 59s 898ms/step - loss: 0.3446 - Pathology_loss: 0.1380 - ROI_loss: 0.2065 - Pathology_categorical_accuracy: 0.9469 - ROI_binary_accuracy: 0.8789 - val_loss: 1.9432 - val_Pathology_loss: 1.6172 - val_ROI_loss: 0.3260 - val_Pathology_categorical_accuracy: 0.6640 - val_ROI_binary_accuracy: 0.8487\n",
      "Epoch 20/100\n",
      "66/66 [==============================] - 59s 898ms/step - loss: 0.3221 - Pathology_loss: 0.1199 - ROI_loss: 0.2022 - Pathology_categorical_accuracy: 0.9502 - ROI_binary_accuracy: 0.8789 - val_loss: 1.3474 - val_Pathology_loss: 1.0118 - val_ROI_loss: 0.3356 - val_Pathology_categorical_accuracy: 0.7067 - val_ROI_binary_accuracy: 0.7999\n",
      "Epoch 21/100\n",
      "66/66 [==============================] - 59s 898ms/step - loss: 0.2926 - Pathology_loss: 0.0988 - ROI_loss: 0.1938 - Pathology_categorical_accuracy: 0.9611 - ROI_binary_accuracy: 0.8854 - val_loss: 1.6240 - val_Pathology_loss: 1.1005 - val_ROI_loss: 0.5235 - val_Pathology_categorical_accuracy: 0.7271 - val_ROI_binary_accuracy: 0.9386\n",
      "Epoch 22/100\n",
      "66/66 [==============================] - 59s 896ms/step - loss: 0.2467 - Pathology_loss: 0.0715 - ROI_loss: 0.1752 - Pathology_categorical_accuracy: 0.9737 - ROI_binary_accuracy: 0.9062 - val_loss: 1.3840 - val_Pathology_loss: 1.0257 - val_ROI_loss: 0.3583 - val_Pathology_categorical_accuracy: 0.6945 - val_ROI_binary_accuracy: 0.8897\n",
      "Epoch 23/100\n",
      "66/66 [==============================] - 59s 897ms/step - loss: 0.2440 - Pathology_loss: 0.0700 - ROI_loss: 0.1741 - Pathology_categorical_accuracy: 0.9752 - ROI_binary_accuracy: 0.9054 - val_loss: 1.6718 - val_Pathology_loss: 1.0969 - val_ROI_loss: 0.5749 - val_Pathology_categorical_accuracy: 0.7067 - val_ROI_binary_accuracy: 0.9489\n",
      "Epoch 24/100\n",
      "66/66 [==============================] - 59s 897ms/step - loss: 0.2206 - Pathology_loss: 0.0576 - ROI_loss: 0.1630 - Pathology_categorical_accuracy: 0.9754 - ROI_binary_accuracy: 0.9132 - val_loss: 1.3364 - val_Pathology_loss: 1.0007 - val_ROI_loss: 0.3356 - val_Pathology_categorical_accuracy: 0.6904 - val_ROI_binary_accuracy: 0.8238\n",
      "Epoch 25/100\n",
      "66/66 [==============================] - 59s 897ms/step - loss: 0.2621 - Pathology_loss: 0.0899 - ROI_loss: 0.1722 - Pathology_categorical_accuracy: 0.9651 - ROI_binary_accuracy: 0.9072 - val_loss: 1.3724 - val_Pathology_loss: 1.0143 - val_ROI_loss: 0.3582 - val_Pathology_categorical_accuracy: 0.7352 - val_ROI_binary_accuracy: 0.8213\n",
      "Epoch 26/100\n",
      "66/66 [==============================] - 59s 898ms/step - loss: 0.2538 - Pathology_loss: 0.0630 - ROI_loss: 0.1908 - Pathology_categorical_accuracy: 0.9726 - ROI_binary_accuracy: 0.8878 - val_loss: 1.4565 - val_Pathology_loss: 1.0914 - val_ROI_loss: 0.3651 - val_Pathology_categorical_accuracy: 0.6375 - val_ROI_binary_accuracy: 0.8740\n",
      "Epoch 27/100\n",
      "66/66 [==============================] - 59s 898ms/step - loss: 0.2706 - Pathology_loss: 0.0788 - ROI_loss: 0.1918 - Pathology_categorical_accuracy: 0.9727 - ROI_binary_accuracy: 0.8896 - val_loss: 1.7129 - val_Pathology_loss: 1.1095 - val_ROI_loss: 0.6034 - val_Pathology_categorical_accuracy: 0.6986 - val_ROI_binary_accuracy: 0.9371\n",
      "Epoch 28/100\n",
      "66/66 [==============================] - 59s 897ms/step - loss: 0.2576 - Pathology_loss: 0.0857 - ROI_loss: 0.1719 - Pathology_categorical_accuracy: 0.9694 - ROI_binary_accuracy: 0.9032 - val_loss: 1.7555 - val_Pathology_loss: 1.3770 - val_ROI_loss: 0.3785 - val_Pathology_categorical_accuracy: 0.6517 - val_ROI_binary_accuracy: 0.8334\n",
      "Epoch 29/100\n",
      "66/66 [==============================] - 59s 898ms/step - loss: 0.3062 - Pathology_loss: 0.1266 - ROI_loss: 0.1796 - Pathology_categorical_accuracy: 0.9518 - ROI_binary_accuracy: 0.8904 - val_loss: 1.8211 - val_Pathology_loss: 1.2753 - val_ROI_loss: 0.5458 - val_Pathology_categorical_accuracy: 0.7006 - val_ROI_binary_accuracy: 0.9265\n",
      "Epoch 30/100\n",
      "66/66 [==============================] - 59s 898ms/step - loss: 0.2192 - Pathology_loss: 0.0577 - ROI_loss: 0.1615 - Pathology_categorical_accuracy: 0.9818 - ROI_binary_accuracy: 0.9115 - val_loss: 1.7371 - val_Pathology_loss: 1.1242 - val_ROI_loss: 0.6129 - val_Pathology_categorical_accuracy: 0.7189 - val_ROI_binary_accuracy: 0.9348\n",
      "Epoch 31/100\n",
      "66/66 [==============================] - 59s 898ms/step - loss: 0.1988 - Pathology_loss: 0.0541 - ROI_loss: 0.1447 - Pathology_categorical_accuracy: 0.9827 - ROI_binary_accuracy: 0.9251 - val_loss: 1.4522 - val_Pathology_loss: 1.0409 - val_ROI_loss: 0.4113 - val_Pathology_categorical_accuracy: 0.6843 - val_ROI_binary_accuracy: 0.8743\n",
      "Epoch 32/100\n",
      "66/66 [==============================] - 59s 896ms/step - loss: 0.1966 - Pathology_loss: 0.0519 - ROI_loss: 0.1446 - Pathology_categorical_accuracy: 0.9788 - ROI_binary_accuracy: 0.9222 - val_loss: 1.7453 - val_Pathology_loss: 1.1021 - val_ROI_loss: 0.6433 - val_Pathology_categorical_accuracy: 0.7271 - val_ROI_binary_accuracy: 0.9364\n",
      "Epoch 33/100\n",
      "66/66 [==============================] - 59s 896ms/step - loss: 0.1929 - Pathology_loss: 0.0582 - ROI_loss: 0.1347 - Pathology_categorical_accuracy: 0.9800 - ROI_binary_accuracy: 0.9287 - val_loss: 1.8873 - val_Pathology_loss: 1.4255 - val_ROI_loss: 0.4618 - val_Pathology_categorical_accuracy: 0.6680 - val_ROI_binary_accuracy: 0.9102\n",
      "Epoch 34/100\n",
      "66/66 [==============================] - 59s 896ms/step - loss: 0.1840 - Pathology_loss: 0.0452 - ROI_loss: 0.1388 - Pathology_categorical_accuracy: 0.9860 - ROI_binary_accuracy: 0.9298 - val_loss: 2.7520 - val_Pathology_loss: 2.1512 - val_ROI_loss: 0.6008 - val_Pathology_categorical_accuracy: 0.6436 - val_ROI_binary_accuracy: 0.9460\n",
      "Epoch 35/100\n",
      "66/66 [==============================] - 59s 898ms/step - loss: 0.2369 - Pathology_loss: 0.0795 - ROI_loss: 0.1574 - Pathology_categorical_accuracy: 0.9736 - ROI_binary_accuracy: 0.9156 - val_loss: 1.9086 - val_Pathology_loss: 1.0247 - val_ROI_loss: 0.8839 - val_Pathology_categorical_accuracy: 0.6925 - val_ROI_binary_accuracy: 0.9484\n",
      "Epoch 36/100\n",
      "66/66 [==============================] - 59s 897ms/step - loss: 0.1787 - Pathology_loss: 0.0394 - ROI_loss: 0.1392 - Pathology_categorical_accuracy: 0.9919 - ROI_binary_accuracy: 0.9272 - val_loss: 1.9661 - val_Pathology_loss: 1.2847 - val_ROI_loss: 0.6814 - val_Pathology_categorical_accuracy: 0.7067 - val_ROI_binary_accuracy: 0.9450\n",
      "Epoch 37/100\n",
      "66/66 [==============================] - 59s 898ms/step - loss: 0.1475 - Pathology_loss: 0.0201 - ROI_loss: 0.1274 - Pathology_categorical_accuracy: 0.9930 - ROI_binary_accuracy: 0.9359 - val_loss: 2.0150 - val_Pathology_loss: 1.2339 - val_ROI_loss: 0.7811 - val_Pathology_categorical_accuracy: 0.6925 - val_ROI_binary_accuracy: 0.9516\n",
      "Epoch 38/100\n",
      "66/66 [==============================] - 59s 897ms/step - loss: 0.1523 - Pathology_loss: 0.0389 - ROI_loss: 0.1134 - Pathology_categorical_accuracy: 0.9828 - ROI_binary_accuracy: 0.9429 - val_loss: 1.8216 - val_Pathology_loss: 1.4468 - val_ROI_loss: 0.3748 - val_Pathology_categorical_accuracy: 0.6925 - val_ROI_binary_accuracy: 0.8926\n",
      "Epoch 39/100\n",
      "66/66 [==============================] - 59s 896ms/step - loss: 0.2114 - Pathology_loss: 0.0847 - ROI_loss: 0.1266 - Pathology_categorical_accuracy: 0.9694 - ROI_binary_accuracy: 0.9335 - val_loss: 1.6078 - val_Pathology_loss: 0.9754 - val_ROI_loss: 0.6324 - val_Pathology_categorical_accuracy: 0.6558 - val_ROI_binary_accuracy: 0.9258\n",
      "Epoch 40/100\n",
      "66/66 [==============================] - 59s 897ms/step - loss: 0.2366 - Pathology_loss: 0.1009 - ROI_loss: 0.1357 - Pathology_categorical_accuracy: 0.9634 - ROI_binary_accuracy: 0.9309 - val_loss: 1.7079 - val_Pathology_loss: 0.9969 - val_ROI_loss: 0.7110 - val_Pathology_categorical_accuracy: 0.7210 - val_ROI_binary_accuracy: 0.9304\n",
      "Epoch 41/100\n",
      "66/66 [==============================] - 59s 898ms/step - loss: 0.1659 - Pathology_loss: 0.0417 - ROI_loss: 0.1242 - Pathology_categorical_accuracy: 0.9880 - ROI_binary_accuracy: 0.9390 - val_loss: 1.7149 - val_Pathology_loss: 1.2050 - val_ROI_loss: 0.5099 - val_Pathology_categorical_accuracy: 0.7067 - val_ROI_binary_accuracy: 0.9028\n",
      "Epoch 42/100\n",
      "66/66 [==============================] - 59s 898ms/step - loss: 0.1488 - Pathology_loss: 0.0314 - ROI_loss: 0.1175 - Pathology_categorical_accuracy: 0.9890 - ROI_binary_accuracy: 0.9409 - val_loss: 2.0408 - val_Pathology_loss: 1.2427 - val_ROI_loss: 0.7981 - val_Pathology_categorical_accuracy: 0.7373 - val_ROI_binary_accuracy: 0.9499\n",
      "Epoch 43/100\n",
      "66/66 [==============================] - 59s 896ms/step - loss: 0.1447 - Pathology_loss: 0.0367 - ROI_loss: 0.1079 - Pathology_categorical_accuracy: 0.9840 - ROI_binary_accuracy: 0.9478 - val_loss: 1.9443 - val_Pathology_loss: 1.1755 - val_ROI_loss: 0.7688 - val_Pathology_categorical_accuracy: 0.6843 - val_ROI_binary_accuracy: 0.9423\n",
      "Epoch 44/100\n",
      "66/66 [==============================] - 59s 897ms/step - loss: 0.1247 - Pathology_loss: 0.0180 - ROI_loss: 0.1067 - Pathology_categorical_accuracy: 0.9942 - ROI_binary_accuracy: 0.9482 - val_loss: 2.0159 - val_Pathology_loss: 1.4171 - val_ROI_loss: 0.5988 - val_Pathology_categorical_accuracy: 0.7128 - val_ROI_binary_accuracy: 0.9131\n",
      "Epoch 45/100\n",
      "66/66 [==============================] - 59s 895ms/step - loss: 0.1518 - Pathology_loss: 0.0422 - ROI_loss: 0.1096 - Pathology_categorical_accuracy: 0.9856 - ROI_binary_accuracy: 0.9444 - val_loss: 2.5466 - val_Pathology_loss: 1.7659 - val_ROI_loss: 0.7806 - val_Pathology_categorical_accuracy: 0.6986 - val_ROI_binary_accuracy: 0.9564\n",
      "Epoch 46/100\n",
      "66/66 [==============================] - 59s 893ms/step - loss: 0.2027 - Pathology_loss: 0.0840 - ROI_loss: 0.1187 - Pathology_categorical_accuracy: 0.9711 - ROI_binary_accuracy: 0.9394 - val_loss: 2.4777 - val_Pathology_loss: 2.0750 - val_ROI_loss: 0.4027 - val_Pathology_categorical_accuracy: 0.6925 - val_ROI_binary_accuracy: 0.8642\n",
      "Epoch 47/100\n",
      "66/66 [==============================] - 59s 894ms/step - loss: 0.2108 - Pathology_loss: 0.0723 - ROI_loss: 0.1385 - Pathology_categorical_accuracy: 0.9713 - ROI_binary_accuracy: 0.9238 - val_loss: 2.3513 - val_Pathology_loss: 1.5924 - val_ROI_loss: 0.7589 - val_Pathology_categorical_accuracy: 0.7169 - val_ROI_binary_accuracy: 0.9433\n",
      "Epoch 48/100\n",
      "66/66 [==============================] - 59s 897ms/step - loss: 0.1556 - Pathology_loss: 0.0347 - ROI_loss: 0.1209 - Pathology_categorical_accuracy: 0.9863 - ROI_binary_accuracy: 0.9346 - val_loss: 2.1508 - val_Pathology_loss: 1.2730 - val_ROI_loss: 0.8778 - val_Pathology_categorical_accuracy: 0.7026 - val_ROI_binary_accuracy: 0.9585\n",
      "Epoch 49/100\n",
      "66/66 [==============================] - 59s 897ms/step - loss: 0.1415 - Pathology_loss: 0.0380 - ROI_loss: 0.1035 - Pathology_categorical_accuracy: 0.9867 - ROI_binary_accuracy: 0.9475 - val_loss: 2.3995 - val_Pathology_loss: 1.4265 - val_ROI_loss: 0.9730 - val_Pathology_categorical_accuracy: 0.7189 - val_ROI_binary_accuracy: 0.9576\n",
      "Epoch 50/100\n",
      "66/66 [==============================] - 59s 897ms/step - loss: 0.1513 - Pathology_loss: 0.0456 - ROI_loss: 0.1058 - Pathology_categorical_accuracy: 0.9831 - ROI_binary_accuracy: 0.9472 - val_loss: 1.7311 - val_Pathology_loss: 0.9485 - val_ROI_loss: 0.7826 - val_Pathology_categorical_accuracy: 0.7210 - val_ROI_binary_accuracy: 0.9400\n",
      "Epoch 51/100\n",
      "66/66 [==============================] - 59s 897ms/step - loss: 0.1535 - Pathology_loss: 0.0429 - ROI_loss: 0.1106 - Pathology_categorical_accuracy: 0.9819 - ROI_binary_accuracy: 0.9416 - val_loss: 1.9005 - val_Pathology_loss: 1.1116 - val_ROI_loss: 0.7889 - val_Pathology_categorical_accuracy: 0.6986 - val_ROI_binary_accuracy: 0.9389\n",
      "Epoch 52/100\n",
      "66/66 [==============================] - 59s 896ms/step - loss: 0.1451 - Pathology_loss: 0.0422 - ROI_loss: 0.1029 - Pathology_categorical_accuracy: 0.9848 - ROI_binary_accuracy: 0.9479 - val_loss: 2.5559 - val_Pathology_loss: 1.2899 - val_ROI_loss: 1.2660 - val_Pathology_categorical_accuracy: 0.7210 - val_ROI_binary_accuracy: 0.9680\n",
      "Epoch 53/100\n",
      "66/66 [==============================] - 59s 895ms/step - loss: 0.1685 - Pathology_loss: 0.0530 - ROI_loss: 0.1155 - Pathology_categorical_accuracy: 0.9805 - ROI_binary_accuracy: 0.9410 - val_loss: 2.5510 - val_Pathology_loss: 1.5503 - val_ROI_loss: 1.0006 - val_Pathology_categorical_accuracy: 0.6436 - val_ROI_binary_accuracy: 0.9196\n",
      "Epoch 54/100\n",
      "66/66 [==============================] - 59s 897ms/step - loss: 0.1956 - Pathology_loss: 0.0642 - ROI_loss: 0.1313 - Pathology_categorical_accuracy: 0.9808 - ROI_binary_accuracy: 0.9371 - val_loss: 1.8709 - val_Pathology_loss: 1.1772 - val_ROI_loss: 0.6937 - val_Pathology_categorical_accuracy: 0.6884 - val_ROI_binary_accuracy: 0.9208\n",
      "Epoch 55/100\n",
      "66/66 [==============================] - 59s 898ms/step - loss: 0.1668 - Pathology_loss: 0.0480 - ROI_loss: 0.1188 - Pathology_categorical_accuracy: 0.9818 - ROI_binary_accuracy: 0.9388 - val_loss: 2.0120 - val_Pathology_loss: 1.2573 - val_ROI_loss: 0.7547 - val_Pathology_categorical_accuracy: 0.7169 - val_ROI_binary_accuracy: 0.9277\n",
      "Epoch 56/100\n",
      "66/66 [==============================] - 59s 898ms/step - loss: 0.1643 - Pathology_loss: 0.0503 - ROI_loss: 0.1140 - Pathology_categorical_accuracy: 0.9818 - ROI_binary_accuracy: 0.9477 - val_loss: 2.2419 - val_Pathology_loss: 1.4561 - val_ROI_loss: 0.7858 - val_Pathology_categorical_accuracy: 0.7352 - val_ROI_binary_accuracy: 0.9298\n",
      "Epoch 57/100\n",
      "66/66 [==============================] - 60s 903ms/step - loss: 0.1412 - Pathology_loss: 0.0376 - ROI_loss: 0.1036 - Pathology_categorical_accuracy: 0.9863 - ROI_binary_accuracy: 0.9483 - val_loss: 2.1269 - val_Pathology_loss: 1.4000 - val_ROI_loss: 0.7269 - val_Pathology_categorical_accuracy: 0.7026 - val_ROI_binary_accuracy: 0.9459\n",
      "Epoch 58/100\n",
      "66/66 [==============================] - 59s 898ms/step - loss: 0.1279 - Pathology_loss: 0.0293 - ROI_loss: 0.0986 - Pathology_categorical_accuracy: 0.9915 - ROI_binary_accuracy: 0.9504 - val_loss: 2.3785 - val_Pathology_loss: 1.1514 - val_ROI_loss: 1.2271 - val_Pathology_categorical_accuracy: 0.7006 - val_ROI_binary_accuracy: 0.9556\n",
      "Epoch 59/100\n",
      "66/66 [==============================] - 59s 898ms/step - loss: 0.1398 - Pathology_loss: 0.0479 - ROI_loss: 0.0919 - Pathology_categorical_accuracy: 0.9842 - ROI_binary_accuracy: 0.9535 - val_loss: 2.5642 - val_Pathology_loss: 1.2245 - val_ROI_loss: 1.3398 - val_Pathology_categorical_accuracy: 0.7128 - val_ROI_binary_accuracy: 0.9658\n",
      "Epoch 60/100\n",
      "66/66 [==============================] - 59s 897ms/step - loss: 0.1161 - Pathology_loss: 0.0252 - ROI_loss: 0.0910 - Pathology_categorical_accuracy: 0.9903 - ROI_binary_accuracy: 0.9555 - val_loss: 2.3957 - val_Pathology_loss: 1.2257 - val_ROI_loss: 1.1700 - val_Pathology_categorical_accuracy: 0.7251 - val_ROI_binary_accuracy: 0.9640\n",
      "Epoch 61/100\n",
      "66/66 [==============================] - 59s 898ms/step - loss: 0.1093 - Pathology_loss: 0.0251 - ROI_loss: 0.0842 - Pathology_categorical_accuracy: 0.9906 - ROI_binary_accuracy: 0.9588 - val_loss: 2.5445 - val_Pathology_loss: 1.4482 - val_ROI_loss: 1.0963 - val_Pathology_categorical_accuracy: 0.7128 - val_ROI_binary_accuracy: 0.9575\n",
      "Epoch 62/100\n",
      "66/66 [==============================] - 59s 899ms/step - loss: 0.1195 - Pathology_loss: 0.0347 - ROI_loss: 0.0848 - Pathology_categorical_accuracy: 0.9867 - ROI_binary_accuracy: 0.9592 - val_loss: 2.0611 - val_Pathology_loss: 1.3022 - val_ROI_loss: 0.7589 - val_Pathology_categorical_accuracy: 0.6986 - val_ROI_binary_accuracy: 0.9357\n",
      "Epoch 63/100\n",
      "66/66 [==============================] - 59s 898ms/step - loss: 0.1093 - Pathology_loss: 0.0210 - ROI_loss: 0.0882 - Pathology_categorical_accuracy: 0.9906 - ROI_binary_accuracy: 0.9578 - val_loss: 2.6164 - val_Pathology_loss: 1.3318 - val_ROI_loss: 1.2846 - val_Pathology_categorical_accuracy: 0.7108 - val_ROI_binary_accuracy: 0.9606\n",
      "Epoch 64/100\n",
      "66/66 [==============================] - 59s 897ms/step - loss: 0.0979 - Pathology_loss: 0.0190 - ROI_loss: 0.0789 - Pathology_categorical_accuracy: 0.9935 - ROI_binary_accuracy: 0.9621 - val_loss: 2.4286 - val_Pathology_loss: 1.2653 - val_ROI_loss: 1.1633 - val_Pathology_categorical_accuracy: 0.7108 - val_ROI_binary_accuracy: 0.9557\n",
      "Epoch 65/100\n",
      "66/66 [==============================] - 59s 898ms/step - loss: 0.0888 - Pathology_loss: 0.0166 - ROI_loss: 0.0722 - Pathology_categorical_accuracy: 0.9941 - ROI_binary_accuracy: 0.9643 - val_loss: 2.5393 - val_Pathology_loss: 1.3488 - val_ROI_loss: 1.1905 - val_Pathology_categorical_accuracy: 0.7251 - val_ROI_binary_accuracy: 0.9455\n",
      "Epoch 66/100\n",
      "66/66 [==============================] - 59s 896ms/step - loss: 0.0902 - Pathology_loss: 0.0146 - ROI_loss: 0.0756 - Pathology_categorical_accuracy: 0.9933 - ROI_binary_accuracy: 0.9624 - val_loss: 2.8253 - val_Pathology_loss: 1.2092 - val_ROI_loss: 1.6160 - val_Pathology_categorical_accuracy: 0.7108 - val_ROI_binary_accuracy: 0.9669\n",
      "Epoch 67/100\n",
      "66/66 [==============================] - 59s 900ms/step - loss: 0.1170 - Pathology_loss: 0.0366 - ROI_loss: 0.0804 - Pathology_categorical_accuracy: 0.9857 - ROI_binary_accuracy: 0.9621 - val_loss: 2.5948 - val_Pathology_loss: 1.5050 - val_ROI_loss: 1.0898 - val_Pathology_categorical_accuracy: 0.6436 - val_ROI_binary_accuracy: 0.9588\n",
      "Epoch 68/100\n",
      "66/66 [==============================] - 59s 900ms/step - loss: 0.1708 - Pathology_loss: 0.0736 - ROI_loss: 0.0972 - Pathology_categorical_accuracy: 0.9750 - ROI_binary_accuracy: 0.9528 - val_loss: 2.1395 - val_Pathology_loss: 1.2530 - val_ROI_loss: 0.8866 - val_Pathology_categorical_accuracy: 0.6925 - val_ROI_binary_accuracy: 0.9444\n",
      "Epoch 69/100\n",
      "66/66 [==============================] - 59s 897ms/step - loss: 0.1811 - Pathology_loss: 0.0742 - ROI_loss: 0.1069 - Pathology_categorical_accuracy: 0.9751 - ROI_binary_accuracy: 0.9427 - val_loss: 2.0466 - val_Pathology_loss: 1.3385 - val_ROI_loss: 0.7081 - val_Pathology_categorical_accuracy: 0.7108 - val_ROI_binary_accuracy: 0.9032\n",
      "Epoch 70/100\n",
      "66/66 [==============================] - 59s 898ms/step - loss: 0.1154 - Pathology_loss: 0.0212 - ROI_loss: 0.0941 - Pathology_categorical_accuracy: 0.9926 - ROI_binary_accuracy: 0.9546 - val_loss: 2.0405 - val_Pathology_loss: 1.2233 - val_ROI_loss: 0.8172 - val_Pathology_categorical_accuracy: 0.7067 - val_ROI_binary_accuracy: 0.9445\n",
      "Epoch 71/100\n",
      "66/66 [==============================] - 59s 897ms/step - loss: 0.0944 - Pathology_loss: 0.0114 - ROI_loss: 0.0830 - Pathology_categorical_accuracy: 0.9951 - ROI_binary_accuracy: 0.9591 - val_loss: 2.4555 - val_Pathology_loss: 1.4673 - val_ROI_loss: 0.9881 - val_Pathology_categorical_accuracy: 0.7128 - val_ROI_binary_accuracy: 0.9497\n",
      "Epoch 72/100\n",
      "66/66 [==============================] - 59s 896ms/step - loss: 0.0940 - Pathology_loss: 0.0067 - ROI_loss: 0.0873 - Pathology_categorical_accuracy: 0.9971 - ROI_binary_accuracy: 0.9515 - val_loss: 2.8209 - val_Pathology_loss: 1.4034 - val_ROI_loss: 1.4175 - val_Pathology_categorical_accuracy: 0.7251 - val_ROI_binary_accuracy: 0.9657\n",
      "Epoch 73/100\n",
      "66/66 [==============================] - 59s 897ms/step - loss: 0.0853 - Pathology_loss: 0.0175 - ROI_loss: 0.0679 - Pathology_categorical_accuracy: 0.9927 - ROI_binary_accuracy: 0.9668 - val_loss: 4.7771 - val_Pathology_loss: 2.6583 - val_ROI_loss: 2.1188 - val_Pathology_categorical_accuracy: 0.6640 - val_ROI_binary_accuracy: 0.9760\n",
      "Epoch 74/100\n",
      "66/66 [==============================] - 59s 898ms/step - loss: 0.0821 - Pathology_loss: 0.0155 - ROI_loss: 0.0666 - Pathology_categorical_accuracy: 0.9934 - ROI_binary_accuracy: 0.9682 - val_loss: 2.7577 - val_Pathology_loss: 1.4545 - val_ROI_loss: 1.3032 - val_Pathology_categorical_accuracy: 0.7271 - val_ROI_binary_accuracy: 0.9617\n",
      "Epoch 75/100\n",
      "66/66 [==============================] - 59s 897ms/step - loss: 0.0921 - Pathology_loss: 0.0241 - ROI_loss: 0.0681 - Pathology_categorical_accuracy: 0.9909 - ROI_binary_accuracy: 0.9679 - val_loss: 2.7429 - val_Pathology_loss: 1.5498 - val_ROI_loss: 1.1931 - val_Pathology_categorical_accuracy: 0.6864 - val_ROI_binary_accuracy: 0.9577\n",
      "Epoch 76/100\n",
      "66/66 [==============================] - 59s 896ms/step - loss: 0.1010 - Pathology_loss: 0.0284 - ROI_loss: 0.0726 - Pathology_categorical_accuracy: 0.9863 - ROI_binary_accuracy: 0.9657 - val_loss: 1.8555 - val_Pathology_loss: 1.1043 - val_ROI_loss: 0.7512 - val_Pathology_categorical_accuracy: 0.6884 - val_ROI_binary_accuracy: 0.9360\n",
      "Epoch 77/100\n",
      "66/66 [==============================] - 59s 897ms/step - loss: 0.0938 - Pathology_loss: 0.0239 - ROI_loss: 0.0699 - Pathology_categorical_accuracy: 0.9908 - ROI_binary_accuracy: 0.9651 - val_loss: 2.6495 - val_Pathology_loss: 1.3371 - val_ROI_loss: 1.3124 - val_Pathology_categorical_accuracy: 0.7128 - val_ROI_binary_accuracy: 0.9644\n",
      "Epoch 78/100\n",
      "66/66 [==============================] - 59s 897ms/step - loss: 0.0849 - Pathology_loss: 0.0152 - ROI_loss: 0.0697 - Pathology_categorical_accuracy: 0.9930 - ROI_binary_accuracy: 0.9662 - val_loss: 2.2866 - val_Pathology_loss: 1.3976 - val_ROI_loss: 0.8890 - val_Pathology_categorical_accuracy: 0.7108 - val_ROI_binary_accuracy: 0.9527\n",
      "Epoch 79/100\n",
      "66/66 [==============================] - 59s 898ms/step - loss: 0.0952 - Pathology_loss: 0.0289 - ROI_loss: 0.0663 - Pathology_categorical_accuracy: 0.9905 - ROI_binary_accuracy: 0.9691 - val_loss: 3.4323 - val_Pathology_loss: 1.8504 - val_ROI_loss: 1.5820 - val_Pathology_categorical_accuracy: 0.6660 - val_ROI_binary_accuracy: 0.9753\n",
      "Epoch 80/100\n",
      "66/66 [==============================] - 59s 898ms/step - loss: 0.1180 - Pathology_loss: 0.0400 - ROI_loss: 0.0780 - Pathology_categorical_accuracy: 0.9863 - ROI_binary_accuracy: 0.9636 - val_loss: 2.1127 - val_Pathology_loss: 1.1705 - val_ROI_loss: 0.9422 - val_Pathology_categorical_accuracy: 0.6904 - val_ROI_binary_accuracy: 0.9426\n",
      "Epoch 81/100\n",
      "66/66 [==============================] - 59s 897ms/step - loss: 0.1145 - Pathology_loss: 0.0344 - ROI_loss: 0.0801 - Pathology_categorical_accuracy: 0.9905 - ROI_binary_accuracy: 0.9620 - val_loss: 2.5052 - val_Pathology_loss: 1.5540 - val_ROI_loss: 0.9512 - val_Pathology_categorical_accuracy: 0.7088 - val_ROI_binary_accuracy: 0.9450\n",
      "Epoch 82/100\n",
      "66/66 [==============================] - 59s 897ms/step - loss: 0.0942 - Pathology_loss: 0.0191 - ROI_loss: 0.0751 - Pathology_categorical_accuracy: 0.9933 - ROI_binary_accuracy: 0.9630 - val_loss: 3.1669 - val_Pathology_loss: 1.4167 - val_ROI_loss: 1.7502 - val_Pathology_categorical_accuracy: 0.7047 - val_ROI_binary_accuracy: 0.9738\n",
      "Epoch 83/100\n",
      "66/66 [==============================] - 59s 897ms/step - loss: 0.1138 - Pathology_loss: 0.0429 - ROI_loss: 0.0709 - Pathology_categorical_accuracy: 0.9849 - ROI_binary_accuracy: 0.9671 - val_loss: 2.7359 - val_Pathology_loss: 1.3578 - val_ROI_loss: 1.3781 - val_Pathology_categorical_accuracy: 0.7230 - val_ROI_binary_accuracy: 0.9606\n",
      "Epoch 84/100\n",
      "66/66 [==============================] - 59s 897ms/step - loss: 0.0937 - Pathology_loss: 0.0177 - ROI_loss: 0.0759 - Pathology_categorical_accuracy: 0.9935 - ROI_binary_accuracy: 0.9625 - val_loss: 2.8482 - val_Pathology_loss: 1.4594 - val_ROI_loss: 1.3888 - val_Pathology_categorical_accuracy: 0.7108 - val_ROI_binary_accuracy: 0.9558\n",
      "Epoch 85/100\n",
      "66/66 [==============================] - 59s 895ms/step - loss: 0.1186 - Pathology_loss: 0.0446 - ROI_loss: 0.0740 - Pathology_categorical_accuracy: 0.9820 - ROI_binary_accuracy: 0.9645 - val_loss: 2.9067 - val_Pathology_loss: 1.4109 - val_ROI_loss: 1.4958 - val_Pathology_categorical_accuracy: 0.7189 - val_ROI_binary_accuracy: 0.9643\n",
      "Epoch 86/100\n",
      "66/66 [==============================] - 59s 897ms/step - loss: 0.1404 - Pathology_loss: 0.0384 - ROI_loss: 0.1021 - Pathology_categorical_accuracy: 0.9856 - ROI_binary_accuracy: 0.9538 - val_loss: 2.4546 - val_Pathology_loss: 1.3896 - val_ROI_loss: 1.0650 - val_Pathology_categorical_accuracy: 0.7067 - val_ROI_binary_accuracy: 0.9561\n",
      "Epoch 87/100\n",
      "66/66 [==============================] - 59s 898ms/step - loss: 0.1156 - Pathology_loss: 0.0352 - ROI_loss: 0.0803 - Pathology_categorical_accuracy: 0.9871 - ROI_binary_accuracy: 0.9611 - val_loss: 2.3597 - val_Pathology_loss: 1.4104 - val_ROI_loss: 0.9493 - val_Pathology_categorical_accuracy: 0.7128 - val_ROI_binary_accuracy: 0.9271\n",
      "Epoch 88/100\n",
      "66/66 [==============================] - 59s 898ms/step - loss: 0.0859 - Pathology_loss: 0.0153 - ROI_loss: 0.0707 - Pathology_categorical_accuracy: 0.9949 - ROI_binary_accuracy: 0.9634 - val_loss: 2.5315 - val_Pathology_loss: 1.4267 - val_ROI_loss: 1.1048 - val_Pathology_categorical_accuracy: 0.6782 - val_ROI_binary_accuracy: 0.9535\n",
      "Epoch 89/100\n",
      "66/66 [==============================] - 59s 898ms/step - loss: 0.0773 - Pathology_loss: 0.0143 - ROI_loss: 0.0630 - Pathology_categorical_accuracy: 0.9936 - ROI_binary_accuracy: 0.9708 - val_loss: 2.5349 - val_Pathology_loss: 1.3740 - val_ROI_loss: 1.1609 - val_Pathology_categorical_accuracy: 0.6965 - val_ROI_binary_accuracy: 0.9501\n",
      "Epoch 90/100\n",
      "66/66 [==============================] - 59s 898ms/step - loss: 0.0690 - Pathology_loss: 0.0118 - ROI_loss: 0.0571 - Pathology_categorical_accuracy: 0.9953 - ROI_binary_accuracy: 0.9714 - val_loss: 3.0057 - val_Pathology_loss: 1.3385 - val_ROI_loss: 1.6672 - val_Pathology_categorical_accuracy: 0.7108 - val_ROI_binary_accuracy: 0.9665\n",
      "Epoch 91/100\n",
      "66/66 [==============================] - 59s 898ms/step - loss: 0.0637 - Pathology_loss: 0.0117 - ROI_loss: 0.0520 - Pathology_categorical_accuracy: 0.9949 - ROI_binary_accuracy: 0.9752 - val_loss: 3.2923 - val_Pathology_loss: 1.5800 - val_ROI_loss: 1.7123 - val_Pathology_categorical_accuracy: 0.7210 - val_ROI_binary_accuracy: 0.9690\n",
      "Epoch 92/100\n",
      "66/66 [==============================] - 59s 898ms/step - loss: 0.0665 - Pathology_loss: 0.0115 - ROI_loss: 0.0550 - Pathology_categorical_accuracy: 0.9963 - ROI_binary_accuracy: 0.9729 - val_loss: 3.2583 - val_Pathology_loss: 1.2611 - val_ROI_loss: 1.9972 - val_Pathology_categorical_accuracy: 0.7515 - val_ROI_binary_accuracy: 0.9750\n",
      "Epoch 93/100\n",
      "66/66 [==============================] - 59s 899ms/step - loss: 0.0615 - Pathology_loss: 0.0105 - ROI_loss: 0.0509 - Pathology_categorical_accuracy: 0.9965 - ROI_binary_accuracy: 0.9752 - val_loss: 3.5074 - val_Pathology_loss: 1.3169 - val_ROI_loss: 2.1904 - val_Pathology_categorical_accuracy: 0.7576 - val_ROI_binary_accuracy: 0.9753\n",
      "Epoch 94/100\n",
      "66/66 [==============================] - 59s 899ms/step - loss: 0.0642 - Pathology_loss: 0.0092 - ROI_loss: 0.0550 - Pathology_categorical_accuracy: 0.9957 - ROI_binary_accuracy: 0.9726 - val_loss: 3.2124 - val_Pathology_loss: 1.3168 - val_ROI_loss: 1.8956 - val_Pathology_categorical_accuracy: 0.7352 - val_ROI_binary_accuracy: 0.9702\n",
      "Epoch 95/100\n",
      "66/66 [==============================] - 59s 897ms/step - loss: 0.0717 - Pathology_loss: 0.0169 - ROI_loss: 0.0548 - Pathology_categorical_accuracy: 0.9906 - ROI_binary_accuracy: 0.9730 - val_loss: 2.6566 - val_Pathology_loss: 1.2787 - val_ROI_loss: 1.3779 - val_Pathology_categorical_accuracy: 0.7169 - val_ROI_binary_accuracy: 0.9554\n",
      "Epoch 96/100\n",
      "66/66 [==============================] - 59s 898ms/step - loss: 0.0696 - Pathology_loss: 0.0147 - ROI_loss: 0.0549 - Pathology_categorical_accuracy: 0.9926 - ROI_binary_accuracy: 0.9720 - val_loss: 3.2749 - val_Pathology_loss: 1.5696 - val_ROI_loss: 1.7053 - val_Pathology_categorical_accuracy: 0.7088 - val_ROI_binary_accuracy: 0.9662\n",
      "Epoch 97/100\n",
      "66/66 [==============================] - 59s 898ms/step - loss: 0.0806 - Pathology_loss: 0.0232 - ROI_loss: 0.0574 - Pathology_categorical_accuracy: 0.9920 - ROI_binary_accuracy: 0.9717 - val_loss: 3.2182 - val_Pathology_loss: 1.4172 - val_ROI_loss: 1.8009 - val_Pathology_categorical_accuracy: 0.7006 - val_ROI_binary_accuracy: 0.9720\n",
      "Epoch 98/100\n",
      "66/66 [==============================] - 59s 898ms/step - loss: 0.0890 - Pathology_loss: 0.0263 - ROI_loss: 0.0627 - Pathology_categorical_accuracy: 0.9889 - ROI_binary_accuracy: 0.9694 - val_loss: 3.8606 - val_Pathology_loss: 2.1651 - val_ROI_loss: 1.6955 - val_Pathology_categorical_accuracy: 0.6538 - val_ROI_binary_accuracy: 0.9712\n",
      "Epoch 99/100\n",
      "66/66 [==============================] - 59s 899ms/step - loss: 0.0933 - Pathology_loss: 0.0256 - ROI_loss: 0.0677 - Pathology_categorical_accuracy: 0.9887 - ROI_binary_accuracy: 0.9665 - val_loss: 2.4795 - val_Pathology_loss: 1.1255 - val_ROI_loss: 1.3540 - val_Pathology_categorical_accuracy: 0.7067 - val_ROI_binary_accuracy: 0.9591\n",
      "Epoch 100/100\n",
      "66/66 [==============================] - 59s 896ms/step - loss: 0.0938 - Pathology_loss: 0.0271 - ROI_loss: 0.0667 - Pathology_categorical_accuracy: 0.9897 - ROI_binary_accuracy: 0.9668 - val_loss: 2.3961 - val_Pathology_loss: 0.7541 - val_ROI_loss: 1.6420 - val_Pathology_categorical_accuracy: 0.6843 - val_ROI_binary_accuracy: 0.9634\n"
     ]
    }
   ],
   "source": [
    "History2 = m2.fit(\n",
    "    x = X_train, \n",
    "    y = {'Pathology': Y1_train, 'ROI': Y2_train},\n",
    "    validation_data = (X_val, {'Pathology': Y1_val, 'ROI': Y2_val}),\n",
    "    batch_size = 30,\n",
    "    epochs=100,\n",
    "    verbose = 1,\n",
    "    callbacks = model_checkpoint_callback_m2\n",
    ")"
   ]
  },
  {
   "cell_type": "code",
   "execution_count": 34,
   "id": "432c0822",
   "metadata": {
    "execution": {
     "iopub.execute_input": "2021-10-15T15:38:26.778777Z",
     "iopub.status.busy": "2021-10-15T15:38:26.745453Z",
     "iopub.status.idle": "2021-10-15T15:38:27.546951Z",
     "shell.execute_reply": "2021-10-15T15:38:27.546444Z"
    },
    "papermill": {
     "duration": 2.762603,
     "end_time": "2021-10-15T15:38:27.547077",
     "exception": false,
     "start_time": "2021-10-15T15:38:24.784474",
     "status": "completed"
    },
    "tags": []
   },
   "outputs": [
    {
     "name": "stdout",
     "output_type": "stream",
     "text": [
      "total 11748800\r\n",
      "-rw-r--r-- 1 root root 120305984 Oct 15 13:59 m2-01.hdf5\r\n",
      "-rw-r--r-- 1 root root 120305984 Oct 15 14:00 m2-02.hdf5\r\n",
      "-rw-r--r-- 1 root root 120305984 Oct 15 14:01 m2-03.hdf5\r\n",
      "-rw-r--r-- 1 root root 120305984 Oct 15 14:02 m2-04.hdf5\r\n",
      "-rw-r--r-- 1 root root 120305984 Oct 15 14:03 m2-05.hdf5\r\n",
      "-rw-r--r-- 1 root root 120305984 Oct 15 14:04 m2-06.hdf5\r\n",
      "-rw-r--r-- 1 root root 120305984 Oct 15 14:05 m2-07.hdf5\r\n",
      "-rw-r--r-- 1 root root 120305984 Oct 15 14:06 m2-08.hdf5\r\n",
      "-rw-r--r-- 1 root root 120305984 Oct 15 14:07 m2-09.hdf5\r\n",
      "-rw-r--r-- 1 root root 120305984 Oct 15 14:08 m2-10.hdf5\r\n",
      "-rw-r--r-- 1 root root 120305984 Oct 15 15:38 m2-100.hdf5\r\n",
      "-rw-r--r-- 1 root root 120305984 Oct 15 14:09 m2-11.hdf5\r\n",
      "-rw-r--r-- 1 root root 120305984 Oct 15 14:10 m2-12.hdf5\r\n",
      "-rw-r--r-- 1 root root 120305984 Oct 15 14:11 m2-13.hdf5\r\n",
      "-rw-r--r-- 1 root root 120305984 Oct 15 14:12 m2-14.hdf5\r\n",
      "-rw-r--r-- 1 root root 120305984 Oct 15 14:13 m2-15.hdf5\r\n",
      "-rw-r--r-- 1 root root 120305984 Oct 15 14:14 m2-16.hdf5\r\n",
      "-rw-r--r-- 1 root root 120305984 Oct 15 14:15 m2-17.hdf5\r\n",
      "-rw-r--r-- 1 root root 120305984 Oct 15 14:16 m2-18.hdf5\r\n",
      "-rw-r--r-- 1 root root 120305984 Oct 15 14:17 m2-19.hdf5\r\n",
      "-rw-r--r-- 1 root root 120305984 Oct 15 14:18 m2-20.hdf5\r\n",
      "-rw-r--r-- 1 root root 120305984 Oct 15 14:19 m2-21.hdf5\r\n",
      "-rw-r--r-- 1 root root 120305984 Oct 15 14:20 m2-22.hdf5\r\n",
      "-rw-r--r-- 1 root root 120305984 Oct 15 14:21 m2-23.hdf5\r\n",
      "-rw-r--r-- 1 root root 120305984 Oct 15 14:22 m2-24.hdf5\r\n",
      "-rw-r--r-- 1 root root 120305984 Oct 15 14:23 m2-25.hdf5\r\n",
      "-rw-r--r-- 1 root root 120305984 Oct 15 14:24 m2-26.hdf5\r\n",
      "-rw-r--r-- 1 root root 120305984 Oct 15 14:25 m2-27.hdf5\r\n",
      "-rw-r--r-- 1 root root 120305984 Oct 15 14:26 m2-28.hdf5\r\n",
      "-rw-r--r-- 1 root root 120305984 Oct 15 14:27 m2-29.hdf5\r\n",
      "-rw-r--r-- 1 root root 120305984 Oct 15 14:28 m2-30.hdf5\r\n",
      "-rw-r--r-- 1 root root 120305984 Oct 15 14:29 m2-31.hdf5\r\n",
      "-rw-r--r-- 1 root root 120305984 Oct 15 14:30 m2-32.hdf5\r\n",
      "-rw-r--r-- 1 root root 120305984 Oct 15 14:31 m2-33.hdf5\r\n",
      "-rw-r--r-- 1 root root 120305984 Oct 15 14:32 m2-34.hdf5\r\n",
      "-rw-r--r-- 1 root root 120305984 Oct 15 14:33 m2-35.hdf5\r\n",
      "-rw-r--r-- 1 root root 120305984 Oct 15 14:34 m2-36.hdf5\r\n",
      "-rw-r--r-- 1 root root 120305984 Oct 15 14:35 m2-37.hdf5\r\n",
      "-rw-r--r-- 1 root root 120305984 Oct 15 14:36 m2-38.hdf5\r\n",
      "-rw-r--r-- 1 root root 120305984 Oct 15 14:37 m2-39.hdf5\r\n",
      "-rw-r--r-- 1 root root 120305984 Oct 15 14:38 m2-40.hdf5\r\n",
      "-rw-r--r-- 1 root root 120305984 Oct 15 14:39 m2-41.hdf5\r\n",
      "-rw-r--r-- 1 root root 120305984 Oct 15 14:40 m2-42.hdf5\r\n",
      "-rw-r--r-- 1 root root 120305984 Oct 15 14:41 m2-43.hdf5\r\n",
      "-rw-r--r-- 1 root root 120305984 Oct 15 14:42 m2-44.hdf5\r\n",
      "-rw-r--r-- 1 root root 120305984 Oct 15 14:43 m2-45.hdf5\r\n",
      "-rw-r--r-- 1 root root 120305984 Oct 15 14:44 m2-46.hdf5\r\n",
      "-rw-r--r-- 1 root root 120305984 Oct 15 14:45 m2-47.hdf5\r\n",
      "-rw-r--r-- 1 root root 120305984 Oct 15 14:46 m2-48.hdf5\r\n",
      "-rw-r--r-- 1 root root 120305984 Oct 15 14:47 m2-49.hdf5\r\n",
      "-rw-r--r-- 1 root root 120305984 Oct 15 14:48 m2-50.hdf5\r\n",
      "-rw-r--r-- 1 root root 120305984 Oct 15 14:49 m2-51.hdf5\r\n",
      "-rw-r--r-- 1 root root 120305984 Oct 15 14:50 m2-52.hdf5\r\n",
      "-rw-r--r-- 1 root root 120305984 Oct 15 14:51 m2-53.hdf5\r\n",
      "-rw-r--r-- 1 root root 120305984 Oct 15 14:52 m2-54.hdf5\r\n",
      "-rw-r--r-- 1 root root 120305984 Oct 15 14:53 m2-55.hdf5\r\n",
      "-rw-r--r-- 1 root root 120305984 Oct 15 14:54 m2-56.hdf5\r\n",
      "-rw-r--r-- 1 root root 120305984 Oct 15 14:55 m2-57.hdf5\r\n",
      "-rw-r--r-- 1 root root 120305984 Oct 15 14:56 m2-58.hdf5\r\n",
      "-rw-r--r-- 1 root root 120305984 Oct 15 14:57 m2-59.hdf5\r\n",
      "-rw-r--r-- 1 root root 120305984 Oct 15 14:58 m2-60.hdf5\r\n",
      "-rw-r--r-- 1 root root 120305984 Oct 15 14:59 m2-61.hdf5\r\n",
      "-rw-r--r-- 1 root root 120305984 Oct 15 15:00 m2-62.hdf5\r\n",
      "-rw-r--r-- 1 root root 120305984 Oct 15 15:01 m2-63.hdf5\r\n",
      "-rw-r--r-- 1 root root 120305984 Oct 15 15:02 m2-64.hdf5\r\n",
      "-rw-r--r-- 1 root root 120305984 Oct 15 15:03 m2-65.hdf5\r\n",
      "-rw-r--r-- 1 root root 120305984 Oct 15 15:04 m2-66.hdf5\r\n",
      "-rw-r--r-- 1 root root 120305984 Oct 15 15:05 m2-67.hdf5\r\n",
      "-rw-r--r-- 1 root root 120305984 Oct 15 15:06 m2-68.hdf5\r\n",
      "-rw-r--r-- 1 root root 120305984 Oct 15 15:07 m2-69.hdf5\r\n",
      "-rw-r--r-- 1 root root 120305984 Oct 15 15:08 m2-70.hdf5\r\n",
      "-rw-r--r-- 1 root root 120305984 Oct 15 15:09 m2-71.hdf5\r\n",
      "-rw-r--r-- 1 root root 120305984 Oct 15 15:10 m2-72.hdf5\r\n",
      "-rw-r--r-- 1 root root 120305984 Oct 15 15:11 m2-73.hdf5\r\n",
      "-rw-r--r-- 1 root root 120305984 Oct 15 15:12 m2-74.hdf5\r\n",
      "-rw-r--r-- 1 root root 120305984 Oct 15 15:13 m2-75.hdf5\r\n",
      "-rw-r--r-- 1 root root 120305984 Oct 15 15:14 m2-76.hdf5\r\n",
      "-rw-r--r-- 1 root root 120305984 Oct 15 15:15 m2-77.hdf5\r\n",
      "-rw-r--r-- 1 root root 120305984 Oct 15 15:16 m2-78.hdf5\r\n",
      "-rw-r--r-- 1 root root 120305984 Oct 15 15:17 m2-79.hdf5\r\n",
      "-rw-r--r-- 1 root root 120305984 Oct 15 15:18 m2-80.hdf5\r\n",
      "-rw-r--r-- 1 root root 120305984 Oct 15 15:19 m2-81.hdf5\r\n",
      "-rw-r--r-- 1 root root 120305984 Oct 15 15:20 m2-82.hdf5\r\n",
      "-rw-r--r-- 1 root root 120305984 Oct 15 15:21 m2-83.hdf5\r\n",
      "-rw-r--r-- 1 root root 120305984 Oct 15 15:22 m2-84.hdf5\r\n",
      "-rw-r--r-- 1 root root 120305984 Oct 15 15:23 m2-85.hdf5\r\n",
      "-rw-r--r-- 1 root root 120305984 Oct 15 15:24 m2-86.hdf5\r\n",
      "-rw-r--r-- 1 root root 120305984 Oct 15 15:25 m2-87.hdf5\r\n",
      "-rw-r--r-- 1 root root 120305984 Oct 15 15:26 m2-88.hdf5\r\n",
      "-rw-r--r-- 1 root root 120305984 Oct 15 15:27 m2-89.hdf5\r\n",
      "-rw-r--r-- 1 root root 120305984 Oct 15 15:28 m2-90.hdf5\r\n",
      "-rw-r--r-- 1 root root 120305984 Oct 15 15:29 m2-91.hdf5\r\n",
      "-rw-r--r-- 1 root root 120305984 Oct 15 15:30 m2-92.hdf5\r\n",
      "-rw-r--r-- 1 root root 120305984 Oct 15 15:31 m2-93.hdf5\r\n",
      "-rw-r--r-- 1 root root 120305984 Oct 15 15:32 m2-94.hdf5\r\n",
      "-rw-r--r-- 1 root root 120305984 Oct 15 15:33 m2-95.hdf5\r\n",
      "-rw-r--r-- 1 root root 120305984 Oct 15 15:34 m2-96.hdf5\r\n",
      "-rw-r--r-- 1 root root 120305984 Oct 15 15:35 m2-97.hdf5\r\n",
      "-rw-r--r-- 1 root root 120305984 Oct 15 15:36 m2-98.hdf5\r\n",
      "-rw-r--r-- 1 root root 120305984 Oct 15 15:37 m2-99.hdf5\r\n"
     ]
    }
   ],
   "source": [
    "!ls -l /kaggle/working/m2/"
   ]
  },
  {
   "cell_type": "code",
   "execution_count": 35,
   "id": "d2052a32",
   "metadata": {
    "execution": {
     "iopub.execute_input": "2021-10-15T15:38:31.535572Z",
     "iopub.status.busy": "2021-10-15T15:38:31.534451Z",
     "iopub.status.idle": "2021-10-15T15:38:32.504054Z",
     "shell.execute_reply": "2021-10-15T15:38:32.505239Z"
    },
    "papermill": {
     "duration": 2.979678,
     "end_time": "2021-10-15T15:38:32.505856",
     "exception": false,
     "start_time": "2021-10-15T15:38:29.526178",
     "status": "completed"
    },
    "tags": []
   },
   "outputs": [
    {
     "data": {
      "image/png": "[encoded data removed]",
      "text/plain": [
       "<Figure size 720x360 with 2 Axes>"
      ]
     },
     "metadata": {
      "needs_background": "light"
     },
     "output_type": "display_data"
    },
    {
     "data": {
      "image/png": "[encoded data removed]",
      "text/plain": [
       "<Figure size 720x360 with 2 Axes>"
      ]
     },
     "metadata": {
      "needs_background": "light"
     },
     "output_type": "display_data"
    }
   ],
   "source": [
    "def plot_loss_m2(history, mid):\n",
    "    plt.figure(figsize=(10,5))\n",
    "    plt.subplot(1, 2, 1)\n",
    "    plt.plot(history.history['Pathology_loss'], label='Pathology train loss')\n",
    "    plt.plot(history.history['val_Pathology_loss'], label='Pathology validation loss')\n",
    "    plt.ylim([0, 3])\n",
    "    plt.xlabel('Epoch')\n",
    "    plt.ylabel('loss')\n",
    "    plt.title(f'The loss for Pathology for model {mid}')\n",
    "    plt.legend()\n",
    "    plt.grid(True)\n",
    "\n",
    "    plt.subplot(1, 2, 2)\n",
    "    plt.plot(history.history['Pathology_categorical_accuracy'], label='Pathology train accuracy')\n",
    "    plt.plot(history.history['val_Pathology_categorical_accuracy'], label='Pathology validation accuracy')\n",
    "    plt.ylim([0, 1])\n",
    "    plt.xlabel('Epoch')\n",
    "    plt.ylabel('accuracy')\n",
    "    plt.title(f'The accuracy for Pathology for model {mid}')\n",
    "    plt.legend()\n",
    "    plt.grid(True)\n",
    "    plt.tight_layout()\n",
    "    plt.show()\n",
    "    \n",
    "    \n",
    "    plt.figure(figsize=(10,5))\n",
    "    plt.subplot(1, 2, 1)\n",
    "    plt.plot(history.history['ROI_loss'], label='ROI train loss')\n",
    "    plt.plot(history.history['val_ROI_loss'], label='ROI validation loss')\n",
    "    plt.ylim([0, 2])\n",
    "    plt.xlabel('Epoch')\n",
    "    plt.ylabel('loss')\n",
    "    plt.title(f'The loss for ROI for model {mid}')\n",
    "    plt.legend()\n",
    "    plt.grid(True)\n",
    "\n",
    "    plt.subplot(1, 2, 2)\n",
    "    plt.plot(history.history['ROI_binary_accuracy'], label='ROI train accuracy')\n",
    "    plt.plot(history.history['val_ROI_binary_accuracy'], label='ROI validation accuracy')\n",
    "    plt.ylim([0, 1])\n",
    "    plt.xlabel('Epoch')\n",
    "    plt.ylabel('accuracy')\n",
    "    plt.title(f'The accuracy for ROI for model {mid}')\n",
    "    plt.legend()\n",
    "    plt.grid(True)\n",
    "    \n",
    "    plt.tight_layout()\n",
    "    plt.show()\n",
    "plot_loss_m2(History2, 2)"
   ]
  },
  {
   "cell_type": "code",
   "execution_count": null,
   "id": "baaaa6fe",
   "metadata": {
    "papermill": {
     "duration": 1.948245,
     "end_time": "2021-10-15T15:38:36.712628",
     "exception": false,
     "start_time": "2021-10-15T15:38:34.764383",
     "status": "completed"
    },
    "tags": []
   },
   "outputs": [],
   "source": []
  }
 ],
 "metadata": {
  "kernelspec": {
   "display_name": "Python 3",
   "language": "python",
   "name": "python3"
  },
  "language_info": {
   "codemirror_mode": {
    "name": "ipython",
    "version": 3
   },
   "file_extension": ".py",
   "mimetype": "text/x-python",
   "name": "python",
   "nbconvert_exporter": "python",
   "pygments_lexer": "ipython3",
   "version": "3.7.10"
  },
  "papermill": {
   "default_parameters": {},
   "duration": 6520.145557,
   "end_time": "2021-10-15T15:38:41.785552",
   "environment_variables": {},
   "exception": null,
   "input_path": "__notebook__.ipynb",
   "output_path": "__notebook__.ipynb",
   "parameters": {},
   "start_time": "2021-10-15T13:50:01.639995",
   "version": "2.3.3"
  }
 },
 "nbformat": 4,
 "nbformat_minor": 5
}
